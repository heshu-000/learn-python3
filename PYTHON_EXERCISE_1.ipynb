{
  "cells": [
    {
      "cell_type": "markdown",
      "metadata": {
        "id": "view-in-github",
        "colab_type": "text"
      },
      "source": [
        "<a href=\"https://colab.research.google.com/github/heshu-000/learn-python3/blob/master/PYTHON_EXERCISE_1.ipynb\" target=\"_parent\"><img src=\"https://colab.research.google.com/assets/colab-badge.svg\" alt=\"Open In Colab\"/></a>"
      ]
    },
    {
      "cell_type": "markdown",
      "id": "e9641345",
      "metadata": {
        "id": "e9641345"
      },
      "source": [
        "# Average of three no.."
      ]
    },
    {
      "cell_type": "code",
      "execution_count": null,
      "id": "e6ac1676",
      "metadata": {
        "scrolled": true,
        "id": "e6ac1676",
        "outputId": "510460ca-aa71-4dc7-e33f-360dc25cb614"
      },
      "outputs": [
        {
          "name": "stdout",
          "output_type": "stream",
          "text": [
            "20.0\n",
            "<class 'float'>\n"
          ]
        }
      ],
      "source": [
        "a=10\n",
        "b=20\n",
        "c=30\n",
        "average=(a+b+c)/3\n",
        "print(average)\n",
        "print(type(average))\n"
      ]
    },
    {
      "cell_type": "markdown",
      "id": "9a30ee61",
      "metadata": {
        "id": "9a30ee61"
      },
      "source": [
        "#Multiplication of 3 no.."
      ]
    },
    {
      "cell_type": "code",
      "execution_count": null,
      "id": "b2b2c4fc",
      "metadata": {
        "scrolled": true,
        "id": "b2b2c4fc",
        "outputId": "7812fd24-89f6-4ae2-c9f6-44ad9e7af1cb"
      },
      "outputs": [
        {
          "name": "stdout",
          "output_type": "stream",
          "text": [
            "6000\n",
            "<class 'int'>\n"
          ]
        }
      ],
      "source": [
        "a=10\n",
        "b=20\n",
        "c=30\n",
        "d=a*b*c\n",
        "print(d)\n",
        "print(type(d))"
      ]
    },
    {
      "cell_type": "markdown",
      "id": "349e57d4",
      "metadata": {
        "id": "349e57d4"
      },
      "source": [
        "# Dynamic addition of 2 no..."
      ]
    },
    {
      "cell_type": "code",
      "execution_count": null,
      "id": "a82fc109",
      "metadata": {
        "id": "a82fc109",
        "outputId": "f9705b50-aa5f-4756-c29f-d2492e677d5b"
      },
      "outputs": [
        {
          "name": "stdout",
          "output_type": "stream",
          "text": [
            "enter a no: 10\n",
            "enter a no: 20\n",
            "30\n",
            "<class 'int'>\n"
          ]
        }
      ],
      "source": [
        "\n",
        "a=int(input(\"enter a no: \"))\n",
        "b=int(input(\"enter a no: \"))\n",
        "addition=(a+b)\n",
        "print(addition)\n",
        "print(type(addition))\n"
      ]
    },
    {
      "cell_type": "markdown",
      "id": "be7fd457",
      "metadata": {
        "id": "be7fd457"
      },
      "source": [
        "# Dynamic multipication of 2 no..\n"
      ]
    },
    {
      "cell_type": "code",
      "execution_count": null,
      "id": "ff4e44c4",
      "metadata": {
        "id": "ff4e44c4",
        "outputId": "02310a6c-ccb9-4d18-d6e4-fc623e9b9e65"
      },
      "outputs": [
        {
          "name": "stdout",
          "output_type": "stream",
          "text": [
            "enter a no: 20\n",
            "enter a no: 30\n",
            "600\n",
            "<class 'int'>\n"
          ]
        }
      ],
      "source": [
        "a=int(input(\"enter a no: \"))\n",
        "b=int(input(\"enter a no: \"))\n",
        "multiplication=(a*b)\n",
        "print(multiplication)\n",
        "print(type(multiplication))"
      ]
    },
    {
      "cell_type": "markdown",
      "id": "066ea843",
      "metadata": {
        "id": "066ea843"
      },
      "source": [
        "# Dynamic add 3 no.."
      ]
    },
    {
      "cell_type": "code",
      "execution_count": null,
      "id": "d65cb024",
      "metadata": {
        "id": "d65cb024",
        "outputId": "e591fbda-b4ee-4747-a061-3fb0511997d2"
      },
      "outputs": [
        {
          "name": "stdout",
          "output_type": "stream",
          "text": [
            "enter a no: 20\n",
            "enter a no: 10\n",
            "enter a no: 20\n",
            "50\n",
            "<class 'int'>\n"
          ]
        }
      ],
      "source": [
        "a=int(input(\"enter a no: \"))\n",
        "b=int(input(\"enter a no: \"))\n",
        "c=int(input(\"enter a no: \"))\n",
        "addition=(a+b+c)\n",
        "print(addition)\n",
        "print(type(addition))"
      ]
    },
    {
      "cell_type": "markdown",
      "id": "6e740549",
      "metadata": {
        "id": "6e740549"
      },
      "source": [
        "# Dynamic multi 3 no..\n"
      ]
    },
    {
      "cell_type": "code",
      "execution_count": null,
      "id": "8acb43ec",
      "metadata": {
        "id": "8acb43ec",
        "outputId": "72c2f2da-370a-4e11-84f5-bc2d232a073c"
      },
      "outputs": [
        {
          "name": "stdout",
          "output_type": "stream",
          "text": [
            "enter a no: 10\n",
            "enter a no: 10\n",
            "enter a no: 10\n",
            "1000\n",
            "<class 'int'>\n"
          ]
        }
      ],
      "source": [
        "a=int(input(\"enter a no: \"))\n",
        "b=int(input(\"enter a no: \"))\n",
        "c=int(input(\"enter a no: \"))\n",
        "multi=(a*b*c)\n",
        "print(multi)\n",
        "print(type(multi))"
      ]
    },
    {
      "cell_type": "markdown",
      "id": "b131c6ca",
      "metadata": {
        "id": "b131c6ca"
      },
      "source": [
        "# Dynamic avg of 3 no.."
      ]
    },
    {
      "cell_type": "code",
      "execution_count": null,
      "id": "12087061",
      "metadata": {
        "id": "12087061",
        "outputId": "3a9d4101-c8ef-4978-9fb2-8ff4193b671b"
      },
      "outputs": [
        {
          "name": "stdout",
          "output_type": "stream",
          "text": [
            "enter a no: 10\n",
            "enter a no: 10\n",
            "enter a no: 0\n",
            "6.666666666666667\n",
            "<class 'float'>\n"
          ]
        }
      ],
      "source": [
        "a=int(input(\"enter a no: \"))\n",
        "b=int(input(\"enter a no: \"))\n",
        "c=int(input(\"enter a no: \"))\n",
        "avg=(a+b+c)/3\n",
        "print(avg)\n",
        "print(type(avg))"
      ]
    },
    {
      "cell_type": "markdown",
      "id": "22dfc7d1",
      "metadata": {
        "id": "22dfc7d1"
      },
      "source": [
        "# TYPE CONVERSIONS"
      ]
    },
    {
      "cell_type": "markdown",
      "id": "7b928b1c",
      "metadata": {
        "id": "7b928b1c"
      },
      "source": [
        "## 1.INT TO FLOAT"
      ]
    },
    {
      "cell_type": "code",
      "execution_count": null,
      "id": "f53e915d",
      "metadata": {
        "id": "f53e915d",
        "outputId": "b0eee641-e5dd-4ad4-b22d-b52be498e5fd"
      },
      "outputs": [
        {
          "name": "stdout",
          "output_type": "stream",
          "text": [
            "<class 'int'>\n",
            "<class 'float'>\n"
          ]
        }
      ],
      "source": [
        "a=10\n",
        "print(type(a))\n",
        "b=float(a)\n",
        "print(type(b))\n"
      ]
    },
    {
      "cell_type": "markdown",
      "id": "242d2be6",
      "metadata": {
        "id": "242d2be6"
      },
      "source": [
        "## 2.float to int"
      ]
    },
    {
      "cell_type": "code",
      "execution_count": null,
      "id": "54fcd821",
      "metadata": {
        "id": "54fcd821",
        "outputId": "7bcb314a-01d9-43c4-8902-4c5a0d10c6ad"
      },
      "outputs": [
        {
          "name": "stdout",
          "output_type": "stream",
          "text": [
            "<class 'float'>\n",
            "<class 'int'>\n",
            "10\n"
          ]
        }
      ],
      "source": [
        "a=10.32\n",
        "print(type(a))\n",
        "b=int(a)\n",
        "print(type(b))\n",
        "print(b)\n"
      ]
    },
    {
      "cell_type": "markdown",
      "id": "4e016424",
      "metadata": {
        "id": "4e016424"
      },
      "source": [
        "## 3.int to string"
      ]
    },
    {
      "cell_type": "code",
      "execution_count": null,
      "id": "34ee9b61",
      "metadata": {
        "id": "34ee9b61",
        "outputId": "a354f426-c8c2-4697-8871-705b562ea99a"
      },
      "outputs": [
        {
          "name": "stdout",
          "output_type": "stream",
          "text": [
            "<class 'int'>\n",
            "<class 'str'>\n",
            "10\n"
          ]
        }
      ],
      "source": [
        "a=10\n",
        "print(type(a))\n",
        "b=str(a)\n",
        "print(type(b))\n",
        "print(b)\n"
      ]
    },
    {
      "cell_type": "markdown",
      "id": "53857c00",
      "metadata": {
        "id": "53857c00"
      },
      "source": [
        "## 4.float to string"
      ]
    },
    {
      "cell_type": "code",
      "execution_count": null,
      "id": "2ceba180",
      "metadata": {
        "id": "2ceba180",
        "outputId": "6c4dd4f7-cf51-4cac-bc55-dd630e19fea8"
      },
      "outputs": [
        {
          "name": "stdout",
          "output_type": "stream",
          "text": [
            "<class 'float'>\n",
            "<class 'str'>\n",
            "10.33\n"
          ]
        }
      ],
      "source": [
        "a=10.33\n",
        "print(type(a))\n",
        "b=str(a)\n",
        "print(type(b))\n",
        "print(b)"
      ]
    },
    {
      "cell_type": "markdown",
      "id": "0e1be80a",
      "metadata": {
        "id": "0e1be80a"
      },
      "source": [
        "## 5.string to int"
      ]
    },
    {
      "cell_type": "code",
      "execution_count": null,
      "id": "7cf22a81",
      "metadata": {
        "id": "7cf22a81",
        "outputId": "3c50ad71-639e-4c76-fa59-062080f2f25a"
      },
      "outputs": [
        {
          "name": "stdout",
          "output_type": "stream",
          "text": [
            "<class 'str'>\n",
            "<class 'int'>\n",
            "10\n"
          ]
        }
      ],
      "source": [
        "a=\"10\"\n",
        "print(type(a))\n",
        "b=int(a)\n",
        "print(type(b))\n",
        "print(b)"
      ]
    },
    {
      "cell_type": "markdown",
      "id": "42d5f814",
      "metadata": {
        "id": "42d5f814"
      },
      "source": [
        "## Boolean"
      ]
    },
    {
      "cell_type": "code",
      "execution_count": null,
      "id": "9b38c2bd",
      "metadata": {
        "id": "9b38c2bd",
        "outputId": "9023a982-010e-47ca-bbde-eabf9927eca1"
      },
      "outputs": [
        {
          "name": "stdout",
          "output_type": "stream",
          "text": [
            "True\n"
          ]
        }
      ],
      "source": [
        "a=30\n",
        "b=20\n",
        "c=a>b\n",
        "print(bool(c))"
      ]
    },
    {
      "cell_type": "markdown",
      "id": "97581bbd",
      "metadata": {
        "id": "97581bbd"
      },
      "source": [
        "## Boolean to int"
      ]
    },
    {
      "cell_type": "code",
      "execution_count": null,
      "id": "c430647e",
      "metadata": {
        "id": "c430647e",
        "outputId": "76fa418d-e9ab-4677-bee8-14bf1b5530b2"
      },
      "outputs": [
        {
          "name": "stdout",
          "output_type": "stream",
          "text": [
            "<class 'bool'>\n",
            "<class 'int'>\n"
          ]
        }
      ],
      "source": [
        "a=bool(30)\n",
        "print(type(a))\n",
        "b=int(a)\n",
        "print(type(b))"
      ]
    },
    {
      "cell_type": "markdown",
      "id": "8dd028f4",
      "metadata": {
        "id": "8dd028f4"
      },
      "source": [
        "## Boolean to string"
      ]
    },
    {
      "cell_type": "code",
      "execution_count": null,
      "id": "53671188",
      "metadata": {
        "id": "53671188",
        "outputId": "19655e87-6341-444f-c736-79c94a3e616a"
      },
      "outputs": [
        {
          "name": "stdout",
          "output_type": "stream",
          "text": [
            "<class 'bool'>\n",
            "<class 'str'>\n"
          ]
        }
      ],
      "source": [
        "a=bool(30)\n",
        "print(type(a))\n",
        "b=str(a)\n",
        "print(type(b))"
      ]
    },
    {
      "cell_type": "markdown",
      "id": "ac0c64ef",
      "metadata": {
        "id": "ac0c64ef"
      },
      "source": [
        "# Complex"
      ]
    },
    {
      "cell_type": "code",
      "execution_count": null,
      "id": "8d9a9568",
      "metadata": {
        "id": "8d9a9568",
        "outputId": "3e255200-6cdf-4221-bb67-c410b377d22e"
      },
      "outputs": [
        {
          "name": "stdout",
          "output_type": "stream",
          "text": [
            "<class 'complex'>\n",
            "<class 'str'>\n"
          ]
        }
      ],
      "source": [
        "a=5+2j\n",
        "print(type(a))\n",
        "b=str(a)\n",
        "print(type(b))"
      ]
    },
    {
      "cell_type": "code",
      "execution_count": 3,
      "id": "6a3ff104",
      "metadata": {
        "colab": {
          "base_uri": "https://localhost:8080/"
        },
        "id": "6a3ff104",
        "outputId": "701e33c7-84a3-4075-ae0a-95a1b1345814"
      },
      "outputs": [
        {
          "output_type": "stream",
          "name": "stdout",
          "text": [
            "enter the value of 1st triangle12\n",
            "enter the value of 2nd triangle41\n",
            "enter the value of 3rd triangle6\n",
            "Scalene triangle\n"
          ]
        }
      ],
      "source": [
        "# checking  whether the triangle is equilateral, isosceles or scalene triangle\n",
        "a=input(\"enter the value of 1st triangle\")\n",
        "b=input(\"enter the value of 2nd triangle\")\n",
        "c=input(\"enter the value of 3rd triangle\")\n",
        "if a==b==c:\n",
        "     print(\"Equilateral triangle\")\n",
        "elif a==b or b==c or c==a:\n",
        "\t    print(\"isosceles triangle\")\n",
        "else:\n",
        "    print(\"Scalene triangle\")"
      ]
    },
    {
      "cell_type": "code",
      "source": [
        "# checking weather entered year is a leap year or not\n",
        "\n",
        "a=int(input(\"Enter year:\"))\n",
        "if (a%4==0):\n",
        "   \n",
        "    print(\"leap year\")\n",
        "else:\n",
        "    print(\"not leap year\")"
      ],
      "metadata": {
        "colab": {
          "base_uri": "https://localhost:8080/"
        },
        "id": "X9dldp9NStcr",
        "outputId": "72f2c2c6-865e-44f6-eabd-d19059f3ea3d"
      },
      "id": "X9dldp9NStcr",
      "execution_count": 6,
      "outputs": [
        {
          "output_type": "stream",
          "name": "stdout",
          "text": [
            "Enter year:2021\n",
            "not leap year\n"
          ]
        }
      ]
    },
    {
      "cell_type": "code",
      "source": [
        "# find minimum among the numers\n",
        "a=input(\"enter the value of 1st number\")\n",
        "b=input(\"enter the value of 2nd number\")\n",
        "c=input(\"enter the value of 3rd number\")\n",
        "if a<b and a<c:\n",
        "     print(\"1st number is minimum\")\n",
        "elif a==b or b==c or c==a:\n",
        "\t    print(\"2nd number is minimum\")\n",
        "else:\n",
        "    print(\"3rd number is minimum\")\n"
      ],
      "metadata": {
        "colab": {
          "base_uri": "https://localhost:8080/"
        },
        "id": "i7z0pHOiUd-7",
        "outputId": "2bf8a39a-97f3-4797-859c-8fd3278c758d"
      },
      "id": "i7z0pHOiUd-7",
      "execution_count": 7,
      "outputs": [
        {
          "output_type": "stream",
          "name": "stdout",
          "text": [
            "enter the value of 1st number12\n",
            "enter the value of 2nd number3\n",
            "enter the value of 3rd number8\n",
            "1st number is minimum\n"
          ]
        }
      ]
    },
    {
      "cell_type": "code",
      "source": [
        "# check whether a number is positive or negative or zero  \n",
        "num = float(input(\"Enter a number: \"))\n",
        "if num > 0:\n",
        "   print(\"Positive number\")\n",
        "elif num == 0:\n",
        "   print(\"Zero\")\n",
        "else:\n",
        "   print(\"Negative number\")\n"
      ],
      "metadata": {
        "colab": {
          "base_uri": "https://localhost:8080/"
        },
        "id": "udFtA00JWc7k",
        "outputId": "2fcbb312-254f-4aa6-a190-4b90b9c0cac6"
      },
      "id": "udFtA00JWc7k",
      "execution_count": 8,
      "outputs": [
        {
          "output_type": "stream",
          "name": "stdout",
          "text": [
            "Enter a number: 0\n",
            "Zero\n"
          ]
        }
      ]
    }
  ],
  "metadata": {
    "kernelspec": {
      "display_name": "Python 3 (ipykernel)",
      "language": "python",
      "name": "python3"
    },
    "language_info": {
      "codemirror_mode": {
        "name": "ipython",
        "version": 3
      },
      "file_extension": ".py",
      "mimetype": "text/x-python",
      "name": "python",
      "nbconvert_exporter": "python",
      "pygments_lexer": "ipython3",
      "version": "3.9.7"
    },
    "colab": {
      "name": "PYTHON EXERCISE 1.ipynb",
      "provenance": [],
      "include_colab_link": true
    }
  },
  "nbformat": 4,
  "nbformat_minor": 5
}