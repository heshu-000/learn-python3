{
  "cells": [
    {
      "cell_type": "markdown",
      "metadata": {
        "id": "view-in-github",
        "colab_type": "text"
      },
      "source": [
        "<a href=\"https://colab.research.google.com/github/heshu-000/learn-python3/blob/master/PYTHON_EXERCISE_1.ipynb\" target=\"_parent\"><img src=\"https://colab.research.google.com/assets/colab-badge.svg\" alt=\"Open In Colab\"/></a>"
      ]
    },
    {
      "cell_type": "markdown",
      "id": "e9641345",
      "metadata": {
        "id": "e9641345"
      },
      "source": [
        "# Average of three no.."
      ]
    },
    {
      "cell_type": "code",
      "execution_count": null,
      "id": "e6ac1676",
      "metadata": {
        "scrolled": true,
        "id": "e6ac1676",
        "outputId": "5775aed6-b8f7-4ab0-adf7-c6f7e0f80d48"
      },
      "outputs": [
        {
          "name": "stdout",
          "output_type": "stream",
          "text": [
            "20.0\n",
            "<class 'float'>\n"
          ]
        }
      ],
      "source": [
        "a=10\n",
        "b=20\n",
        "c=30\n",
        "average=(a+b+c)/3\n",
        "print(average)\n",
        "print(type(average))\n"
      ]
    },
    {
      "cell_type": "markdown",
      "id": "9a30ee61",
      "metadata": {
        "id": "9a30ee61"
      },
      "source": [
        "#Multiplication of 3 no.."
      ]
    },
    {
      "cell_type": "code",
      "execution_count": null,
      "id": "b2b2c4fc",
      "metadata": {
        "scrolled": true,
        "id": "b2b2c4fc",
        "outputId": "7cb69afb-4afe-47a7-e43b-8df3e4873b00"
      },
      "outputs": [
        {
          "name": "stdout",
          "output_type": "stream",
          "text": [
            "6000\n",
            "<class 'int'>\n"
          ]
        }
      ],
      "source": [
        "a=10\n",
        "b=20\n",
        "c=30\n",
        "d=a*b*c\n",
        "print(d)\n",
        "print(type(d))"
      ]
    },
    {
      "cell_type": "markdown",
      "id": "349e57d4",
      "metadata": {
        "id": "349e57d4"
      },
      "source": [
        "# Dynamic addition of 2 no..."
      ]
    },
    {
      "cell_type": "code",
      "execution_count": null,
      "id": "a82fc109",
      "metadata": {
        "id": "a82fc109",
        "outputId": "c88fe559-e4ad-46cb-d586-14dd3b789d19"
      },
      "outputs": [
        {
          "name": "stdout",
          "output_type": "stream",
          "text": [
            "enter a no: 10\n",
            "enter a no: 20\n",
            "30\n",
            "<class 'int'>\n"
          ]
        }
      ],
      "source": [
        "\n",
        "a=int(input(\"enter a no: \"))\n",
        "b=int(input(\"enter a no: \"))\n",
        "addition=(a+b)\n",
        "print(addition)\n",
        "print(type(addition))\n"
      ]
    },
    {
      "cell_type": "markdown",
      "id": "be7fd457",
      "metadata": {
        "id": "be7fd457"
      },
      "source": [
        "# Dynamic multipication of 2 no..\n"
      ]
    },
    {
      "cell_type": "code",
      "execution_count": null,
      "id": "ff4e44c4",
      "metadata": {
        "id": "ff4e44c4",
        "outputId": "792a0673-512c-4511-a0a6-258d0f6dcc6c"
      },
      "outputs": [
        {
          "name": "stdout",
          "output_type": "stream",
          "text": [
            "enter a no: 20\n",
            "enter a no: 30\n",
            "600\n",
            "<class 'int'>\n"
          ]
        }
      ],
      "source": [
        "a=int(input(\"enter a no: \"))\n",
        "b=int(input(\"enter a no: \"))\n",
        "multiplication=(a*b)\n",
        "print(multiplication)\n",
        "print(type(multiplication))"
      ]
    },
    {
      "cell_type": "markdown",
      "id": "066ea843",
      "metadata": {
        "id": "066ea843"
      },
      "source": [
        "# Dynamic add 3 no.."
      ]
    },
    {
      "cell_type": "code",
      "execution_count": null,
      "id": "d65cb024",
      "metadata": {
        "id": "d65cb024",
        "outputId": "88d07c1c-54c7-4d99-ab54-184fe600b44a"
      },
      "outputs": [
        {
          "name": "stdout",
          "output_type": "stream",
          "text": [
            "enter a no: 20\n",
            "enter a no: 10\n",
            "enter a no: 20\n",
            "50\n",
            "<class 'int'>\n"
          ]
        }
      ],
      "source": [
        "a=int(input(\"enter a no: \"))\n",
        "b=int(input(\"enter a no: \"))\n",
        "c=int(input(\"enter a no: \"))\n",
        "addition=(a+b+c)\n",
        "print(addition)\n",
        "print(type(addition))"
      ]
    },
    {
      "cell_type": "markdown",
      "id": "6e740549",
      "metadata": {
        "id": "6e740549"
      },
      "source": [
        "# Dynamic multi 3 no..\n"
      ]
    },
    {
      "cell_type": "code",
      "execution_count": null,
      "id": "8acb43ec",
      "metadata": {
        "id": "8acb43ec",
        "outputId": "5f358419-2f3f-4d1b-8b37-51e44839dd1d"
      },
      "outputs": [
        {
          "name": "stdout",
          "output_type": "stream",
          "text": [
            "enter a no: 10\n",
            "enter a no: 10\n",
            "enter a no: 10\n",
            "1000\n",
            "<class 'int'>\n"
          ]
        }
      ],
      "source": [
        "a=int(input(\"enter a no: \"))\n",
        "b=int(input(\"enter a no: \"))\n",
        "c=int(input(\"enter a no: \"))\n",
        "multi=(a*b*c)\n",
        "print(multi)\n",
        "print(type(multi))"
      ]
    },
    {
      "cell_type": "markdown",
      "id": "b131c6ca",
      "metadata": {
        "id": "b131c6ca"
      },
      "source": [
        "# Dynamic avg of 3 no.."
      ]
    },
    {
      "cell_type": "code",
      "execution_count": null,
      "id": "12087061",
      "metadata": {
        "id": "12087061",
        "outputId": "45021cb2-b322-4694-b11f-cb1389d04ad8"
      },
      "outputs": [
        {
          "name": "stdout",
          "output_type": "stream",
          "text": [
            "enter a no: 10\n",
            "enter a no: 10\n",
            "enter a no: 0\n",
            "6.666666666666667\n",
            "<class 'float'>\n"
          ]
        }
      ],
      "source": [
        "a=int(input(\"enter a no: \"))\n",
        "b=int(input(\"enter a no: \"))\n",
        "c=int(input(\"enter a no: \"))\n",
        "avg=(a+b+c)/3\n",
        "print(avg)\n",
        "print(type(avg))"
      ]
    },
    {
      "cell_type": "markdown",
      "id": "22dfc7d1",
      "metadata": {
        "id": "22dfc7d1"
      },
      "source": [
        "# TYPE CONVERSIONS"
      ]
    },
    {
      "cell_type": "markdown",
      "id": "7b928b1c",
      "metadata": {
        "id": "7b928b1c"
      },
      "source": [
        "## 1.INT TO FLOAT"
      ]
    },
    {
      "cell_type": "code",
      "execution_count": null,
      "id": "f53e915d",
      "metadata": {
        "id": "f53e915d",
        "outputId": "8cbbb0b2-2905-411b-e284-8efdb0729529"
      },
      "outputs": [
        {
          "name": "stdout",
          "output_type": "stream",
          "text": [
            "<class 'int'>\n",
            "<class 'float'>\n"
          ]
        }
      ],
      "source": [
        "a=10\n",
        "print(type(a))\n",
        "b=float(a)\n",
        "print(type(b))\n"
      ]
    },
    {
      "cell_type": "markdown",
      "id": "242d2be6",
      "metadata": {
        "id": "242d2be6"
      },
      "source": [
        "## 2.float to int"
      ]
    },
    {
      "cell_type": "code",
      "execution_count": null,
      "id": "54fcd821",
      "metadata": {
        "id": "54fcd821",
        "outputId": "1b524e44-5ce1-44a1-dc49-9101e8cc6bf6"
      },
      "outputs": [
        {
          "name": "stdout",
          "output_type": "stream",
          "text": [
            "<class 'float'>\n",
            "<class 'int'>\n",
            "10\n"
          ]
        }
      ],
      "source": [
        "a=10.32\n",
        "print(type(a))\n",
        "b=int(a)\n",
        "print(type(b))\n",
        "print(b)\n"
      ]
    },
    {
      "cell_type": "markdown",
      "id": "4e016424",
      "metadata": {
        "id": "4e016424"
      },
      "source": [
        "## 3.int to string"
      ]
    },
    {
      "cell_type": "code",
      "execution_count": null,
      "id": "34ee9b61",
      "metadata": {
        "id": "34ee9b61",
        "outputId": "2d89c960-6822-43b8-83d1-8edd238ea410"
      },
      "outputs": [
        {
          "name": "stdout",
          "output_type": "stream",
          "text": [
            "<class 'int'>\n",
            "<class 'str'>\n",
            "10\n"
          ]
        }
      ],
      "source": [
        "a=10\n",
        "print(type(a))\n",
        "b=str(a)\n",
        "print(type(b))\n",
        "print(b)\n"
      ]
    },
    {
      "cell_type": "markdown",
      "id": "53857c00",
      "metadata": {
        "id": "53857c00"
      },
      "source": [
        "## 4.float to string"
      ]
    },
    {
      "cell_type": "code",
      "execution_count": null,
      "id": "2ceba180",
      "metadata": {
        "id": "2ceba180",
        "outputId": "12b3d571-563a-4771-ae45-da9d28411896"
      },
      "outputs": [
        {
          "name": "stdout",
          "output_type": "stream",
          "text": [
            "<class 'float'>\n",
            "<class 'str'>\n",
            "10.33\n"
          ]
        }
      ],
      "source": [
        "a=10.33\n",
        "print(type(a))\n",
        "b=str(a)\n",
        "print(type(b))\n",
        "print(b)"
      ]
    },
    {
      "cell_type": "markdown",
      "id": "0e1be80a",
      "metadata": {
        "id": "0e1be80a"
      },
      "source": [
        "## 5.string to int"
      ]
    },
    {
      "cell_type": "code",
      "execution_count": null,
      "id": "7cf22a81",
      "metadata": {
        "id": "7cf22a81",
        "outputId": "ecff2198-e75b-4756-cfeb-76eb166c7b78"
      },
      "outputs": [
        {
          "name": "stdout",
          "output_type": "stream",
          "text": [
            "<class 'str'>\n",
            "<class 'int'>\n",
            "10\n"
          ]
        }
      ],
      "source": [
        "a=\"10\"\n",
        "print(type(a))\n",
        "b=int(a)\n",
        "print(type(b))\n",
        "print(b)"
      ]
    },
    {
      "cell_type": "markdown",
      "id": "42d5f814",
      "metadata": {
        "id": "42d5f814"
      },
      "source": [
        "## Boolean"
      ]
    },
    {
      "cell_type": "code",
      "execution_count": null,
      "id": "9b38c2bd",
      "metadata": {
        "id": "9b38c2bd",
        "outputId": "c406c415-88f9-4d73-8406-ea173a21d9f2"
      },
      "outputs": [
        {
          "name": "stdout",
          "output_type": "stream",
          "text": [
            "True\n"
          ]
        }
      ],
      "source": [
        "a=30\n",
        "b=20\n",
        "c=a>b\n",
        "print(bool(c))"
      ]
    },
    {
      "cell_type": "markdown",
      "id": "97581bbd",
      "metadata": {
        "id": "97581bbd"
      },
      "source": [
        "## Boolean to int"
      ]
    },
    {
      "cell_type": "code",
      "execution_count": null,
      "id": "c430647e",
      "metadata": {
        "id": "c430647e",
        "outputId": "99df4264-a18e-47a4-e09c-ad04fdfc9c9a"
      },
      "outputs": [
        {
          "name": "stdout",
          "output_type": "stream",
          "text": [
            "<class 'bool'>\n",
            "<class 'int'>\n"
          ]
        }
      ],
      "source": [
        "a=bool(30)\n",
        "print(type(a))\n",
        "b=int(a)\n",
        "print(type(b))"
      ]
    },
    {
      "cell_type": "markdown",
      "id": "8dd028f4",
      "metadata": {
        "id": "8dd028f4"
      },
      "source": [
        "## Boolean to string"
      ]
    },
    {
      "cell_type": "code",
      "execution_count": null,
      "id": "53671188",
      "metadata": {
        "id": "53671188",
        "outputId": "114ad039-ddae-437d-97e8-91815e66b6e6"
      },
      "outputs": [
        {
          "name": "stdout",
          "output_type": "stream",
          "text": [
            "<class 'bool'>\n",
            "<class 'str'>\n"
          ]
        }
      ],
      "source": [
        "a=bool(30)\n",
        "print(type(a))\n",
        "b=str(a)\n",
        "print(type(b))"
      ]
    },
    {
      "cell_type": "markdown",
      "id": "ac0c64ef",
      "metadata": {
        "id": "ac0c64ef"
      },
      "source": [
        "# Complex"
      ]
    },
    {
      "cell_type": "code",
      "execution_count": null,
      "id": "8d9a9568",
      "metadata": {
        "id": "8d9a9568",
        "outputId": "c4627ffe-102e-4c8b-e8c2-3405834351c1"
      },
      "outputs": [
        {
          "name": "stdout",
          "output_type": "stream",
          "text": [
            "<class 'complex'>\n",
            "<class 'str'>\n"
          ]
        }
      ],
      "source": [
        "a=5+2j\n",
        "print(type(a))\n",
        "b=str(a)\n",
        "print(type(b))"
      ]
    },
    {
      "cell_type": "code",
      "execution_count": null,
      "id": "6a3ff104",
      "metadata": {
        "id": "6a3ff104"
      },
      "outputs": [],
      "source": [
        ""
      ]
    }
  ],
  "metadata": {
    "kernelspec": {
      "display_name": "Python 3 (ipykernel)",
      "language": "python",
      "name": "python3"
    },
    "language_info": {
      "codemirror_mode": {
        "name": "ipython",
        "version": 3
      },
      "file_extension": ".py",
      "mimetype": "text/x-python",
      "name": "python",
      "nbconvert_exporter": "python",
      "pygments_lexer": "ipython3",
      "version": "3.9.7"
    },
    "colab": {
      "name": "PYTHON EXERCISE 1.ipynb",
      "provenance": [],
      "include_colab_link": true
    }
  },
  "nbformat": 4,
  "nbformat_minor": 5
}