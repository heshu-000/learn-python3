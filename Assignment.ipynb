{
  "nbformat": 4,
  "nbformat_minor": 0,
  "metadata": {
    "colab": {
      "name": "Assignment.ipynb",
      "provenance": [],
      "authorship_tag": "ABX9TyO9VWcv8jhQDd+UBv6E3b7g",
      "include_colab_link": true
    },
    "kernelspec": {
      "name": "python3",
      "display_name": "Python 3"
    },
    "language_info": {
      "name": "python"
    }
  },
  "cells": [
    {
      "cell_type": "markdown",
      "metadata": {
        "id": "view-in-github",
        "colab_type": "text"
      },
      "source": [
        "<a href=\"https://colab.research.google.com/github/heshu-000/learn-python3/blob/master/Assignment.ipynb\" target=\"_parent\"><img src=\"https://colab.research.google.com/assets/colab-badge.svg\" alt=\"Open In Colab\"/></a>"
      ]
    },
    {
      "cell_type": "markdown",
      "source": [
        "# Write a python program to find power of number with recursion and without recursion(input n=2 , p=3)"
      ],
      "metadata": {
        "id": "-resoF1rlB6O"
      }
    },
    {
      "cell_type": "code",
      "source": [
        "def power(n,p):\n",
        " if p==0:\n",
        "  return 1\n",
        " return (n*power(n, p-1))\n",
        "n=2\n",
        "p=3\n",
        "print(power(n,p))"
      ],
      "metadata": {
        "colab": {
          "base_uri": "https://localhost:8080/"
        },
        "id": "vIiThui6pmKl",
        "outputId": "1f073149-c44b-4276-bfc9-27d772347dce"
      },
      "execution_count": 7,
      "outputs": [
        {
          "output_type": "stream",
          "name": "stdout",
          "text": [
            "8\n"
          ]
        }
      ]
    },
    {
      "cell_type": "code",
      "source": [
        "### without recursion\n",
        "def power():\n",
        " base = int(input(\"enter the base value\"))\n",
        " power = int(input(\"entwr the power\"))\n",
        " answer = base**power\n",
        " print(answer)\n",
        " power()"
      ],
      "metadata": {
        "id": "vcrziq3jtauH"
      },
      "execution_count": null,
      "outputs": []
    },
    {
      "cell_type": "markdown",
      "source": [
        "# write a program to sort tuple by total digits (input: list=[(3,4,6,723),(1,2),(134,234,34)])\n",
        "      output:[(1,2)(3,4,6,723)(34,134,234)]"
      ],
      "metadata": {
        "id": "WD_SZHg_qEl9"
      }
    },
    {
      "cell_type": "code",
      "source": [
        "a=eval(input(\"enter the list of tuples\"))\n",
        "b=sorted(a)\n",
        "print(b)\n"
      ],
      "metadata": {
        "colab": {
          "base_uri": "https://localhost:8080/"
        },
        "id": "T_yHWPlhqcE-",
        "outputId": "877db3d6-8945-4c3a-e810-4a7e24784faf"
      },
      "execution_count": 26,
      "outputs": [
        {
          "output_type": "stream",
          "name": "stdout",
          "text": [
            "enter the list of tuples[(3,4,6,723),(1,2),(134,234,34)]\n",
            "[(1, 2), (3, 4, 6, 723), (134, 234, 34)]\n"
          ]
        }
      ]
    },
    {
      "cell_type": "markdown",
      "source": [
        "# take five subjects from the user and display the grade of the student,if average is 90-100(o),80-89(a+),70-79(a)..."
      ],
      "metadata": {
        "id": "0U0k4A6Ev0Bl"
      }
    },
    {
      "cell_type": "code",
      "source": [
        "a=int(input(\"enter the marks of 1st subject:\"))\n",
        "b=int(input(\"enter the marks of 2nd subject:\"))\n",
        "c=int(input(\"enter the marks of 3rd subject:\"))\n",
        "d=int(input(\"enter the marks of 4th subject:\"))\n",
        "e=int(input(\"enter the marks of 5th subject:\"))\n",
        "avg=(a+b+c+d+e)/5;\n",
        "if avg>=90:\n",
        "  print(\"O grade\")\n",
        "elif avg>=80 and avg<89:\n",
        "  print(\"A+ grade\")\n",
        "elif avg>=70 and avg<79:\n",
        "  print(\"A grade\")\n",
        "else:\n",
        "  print(\"better luck next time\")"
      ],
      "metadata": {
        "colab": {
          "base_uri": "https://localhost:8080/"
        },
        "id": "bdT2ci3hv2N9",
        "outputId": "6134b3a2-fd15-4233-cea0-6a0e7fbea5d7"
      },
      "execution_count": 27,
      "outputs": [
        {
          "output_type": "stream",
          "name": "stdout",
          "text": [
            "enter the marks of 1st subject:90\n",
            "enter the marks of 2nd subject:78\n",
            "enter the marks of 3rd subject:78\n",
            "enter the marks of 4th subject:89\n",
            "enter the marks of 5th subject:78\n",
            "A+ grade\n"
          ]
        }
      ]
    },
    {
      "cell_type": "markdown",
      "source": [
        "# write a python program that prints 1 if all three given numbers are ascending order."
      ],
      "metadata": {
        "id": "SRpM3GqT0EMl"
      }
    },
    {
      "cell_type": "code",
      "source": [
        "#print 1\n",
        "a,b,c=map(int,input().split())\n",
        "if b!=a+1 or c!=b+1:\n",
        " print(0)\n",
        "elif b==a+1 and c==b+1:\n",
        " print(1)\n"
      ],
      "metadata": {
        "colab": {
          "base_uri": "https://localhost:8080/"
        },
        "id": "zObRcTRj0FhU",
        "outputId": "27d5a8a9-a8c5-4160-a7d2-674f8c9ce80a"
      },
      "execution_count": 29,
      "outputs": [
        {
          "output_type": "stream",
          "name": "stdout",
          "text": [
            "7 8 9\n",
            "1\n"
          ]
        }
      ]
    },
    {
      "cell_type": "markdown",
      "source": [
        "# check a given number is perfect number are not"
      ],
      "metadata": {
        "id": "TNxFgt590yHt"
      }
    },
    {
      "cell_type": "code",
      "source": [
        "# perfect number\n",
        "n=int(input(\"enter your number\"))\n",
        "s=0\n",
        "for i in range(1,n):\n",
        "  if n%i==0:\n",
        "    s=s+i\n",
        "if s==n:\n",
        "  print(\"enter perfect number\")\n",
        "else:\n",
        "  print(\"enter not a perfect number\")\n"
      ],
      "metadata": {
        "colab": {
          "base_uri": "https://localhost:8080/"
        },
        "id": "6xESE4JI0zHc",
        "outputId": "8b19484f-020c-453c-8b9c-0b76b9a8ecb3"
      },
      "execution_count": 39,
      "outputs": [
        {
          "output_type": "stream",
          "name": "stdout",
          "text": [
            "enter your number22\n",
            "enter not a perfect number\n"
          ]
        }
      ]
    },
    {
      "cell_type": "markdown",
      "source": [
        "# check a given string is a pallindrome or not"
      ],
      "metadata": {
        "id": "WjJ6Grjt3cNV"
      }
    },
    {
      "cell_type": "code",
      "source": [
        "def isPalindrome(s):\n",
        "    return s == s[::-1]\n",
        "s = \"malayalam\"\n",
        "ans = isPalindrome(s)\n",
        " \n",
        "if ans:\n",
        "    print(\"Yes\")\n",
        "else:\n",
        "    print(\"No\")"
      ],
      "metadata": {
        "colab": {
          "base_uri": "https://localhost:8080/"
        },
        "id": "PnzlKmTQ3SyO",
        "outputId": "bb70cdb0-0dea-4783-d72f-f4d0e95cfbda"
      },
      "execution_count": 40,
      "outputs": [
        {
          "output_type": "stream",
          "name": "stdout",
          "text": [
            "Yes\n"
          ]
        }
      ]
    }
  ]
}