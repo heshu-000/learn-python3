{
  "nbformat": 4,
  "nbformat_minor": 0,
  "metadata": {
    "colab": {
      "name": "tuples .ipynb",
      "provenance": [],
      "authorship_tag": "ABX9TyOEtGs6iWWEKM/YYdH7dRBO",
      "include_colab_link": true
    },
    "kernelspec": {
      "name": "python3",
      "display_name": "Python 3"
    },
    "language_info": {
      "name": "python"
    }
  },
  "cells": [
    {
      "cell_type": "markdown",
      "metadata": {
        "id": "view-in-github",
        "colab_type": "text"
      },
      "source": [
        "<a href=\"https://colab.research.google.com/github/heshu-000/learn-python3/blob/master/tuples_.ipynb\" target=\"_parent\"><img src=\"https://colab.research.google.com/assets/colab-badge.svg\" alt=\"Open In Colab\"/></a>"
      ]
    },
    {
      "cell_type": "code",
      "execution_count": null,
      "metadata": {
        "colab": {
          "base_uri": "https://localhost:8080/"
        },
        "id": "h3lOev1Hvke3",
        "outputId": "62641fd7-bb73-4132-ecdd-3718cd27e6b2"
      },
      "outputs": [
        {
          "output_type": "stream",
          "name": "stdout",
          "text": [
            "('a', 'b', 'c')\n"
          ]
        }
      ],
      "source": [
        "# Create a Tuple:\n",
        "thistuple = (\"a\", \"b\", \"c\")\n",
        "print(thistuple)\n"
      ]
    },
    {
      "cell_type": "code",
      "source": [
        "# Tuples allow duplicate values:\n",
        "#Since tuples are indexed, they can have items with the same value:\n",
        "thistuple = (\"ashok\", \"ashok\", \" h\", \"h\", \"ashok\")\n",
        "print(thistuple)\n"
      ],
      "metadata": {
        "colab": {
          "base_uri": "https://localhost:8080/"
        },
        "id": "6ZB0SDfBxjqd",
        "outputId": "43d1e579-b4ea-432f-da06-90d004f6d841"
      },
      "execution_count": null,
      "outputs": [
        {
          "output_type": "stream",
          "name": "stdout",
          "text": [
            "('ashok', 'ashok', ' h', 'h', 'ashok')\n"
          ]
        }
      ]
    },
    {
      "cell_type": "code",
      "source": [
        "# To determine how many items a tuple has, use the len()\n",
        "# function:Print the number of items in the tuple:\n",
        "thistuple = tuple((\"app\", \"hapi\", \"happy\"))\n",
        "print(len(thistuple))"
      ],
      "metadata": {
        "colab": {
          "base_uri": "https://localhost:8080/"
        },
        "id": "f0LaK1wSyOh1",
        "outputId": "0cbd4f71-4fc8-4654-dd91-9429dfac9e35"
      },
      "execution_count": null,
      "outputs": [
        {
          "output_type": "stream",
          "name": "stdout",
          "text": [
            "3\n"
          ]
        }
      ]
    },
    {
      "cell_type": "code",
      "source": [
        "\n",
        "#One item tuple, remember the comma:\n",
        "thistuple = (\"a\",)\n",
        "print(type(thistuple))\n",
        "\n",
        "#NOT a tuple\n",
        "thistuple = (\"ap\")\n",
        "print(type(thistuple))\n"
      ],
      "metadata": {
        "colab": {
          "base_uri": "https://localhost:8080/"
        },
        "id": "jaaVXZgOy-jO",
        "outputId": "3c930093-8d8a-4a7c-80fe-ea66872eec85"
      },
      "execution_count": null,
      "outputs": [
        {
          "output_type": "stream",
          "name": "stdout",
          "text": [
            "<class 'tuple'>\n",
            "<class 'str'>\n"
          ]
        }
      ]
    },
    {
      "cell_type": "code",
      "source": [
        "# Tuple items can be of any data type:\n",
        "#String, int and boolean data types:\n",
        "tuple1 = (\"d\", \"k\", \"che\")\n",
        "tuple2 = (2, 5, 7, 9, 3,4)\n",
        "tuple3 = (True, False, False)\n",
        "\n",
        "print(tuple1)\n",
        "print(tuple2)\n",
        "print(tuple3)\n"
      ],
      "metadata": {
        "colab": {
          "base_uri": "https://localhost:8080/"
        },
        "id": "wYXM2CEizlxG",
        "outputId": "e13eae2f-38a8-49ba-b8f1-65b2b9f8870c"
      },
      "execution_count": null,
      "outputs": [
        {
          "output_type": "stream",
          "name": "stdout",
          "text": [
            "('d', 'k', 'che')\n",
            "(2, 5, 7, 9, 3, 4)\n",
            "(True, False, False)\n"
          ]
        }
      ]
    },
    {
      "cell_type": "code",
      "source": [
        "#  A tuple with strings, integers and boolean values:\n",
        "tuple1 = (\"abc\", 23, True, 18, \"male\")\n",
        "print(tuple1)\n"
      ],
      "metadata": {
        "colab": {
          "base_uri": "https://localhost:8080/"
        },
        "id": "oXXxyUW20Tqd",
        "outputId": "eb3ce4f0-7aa2-45bc-ce70-3628d685ca3d"
      },
      "execution_count": null,
      "outputs": [
        {
          "output_type": "stream",
          "name": "stdout",
          "text": [
            "('abc', 23, True, 18, 'male')\n"
          ]
        }
      ]
    },
    {
      "cell_type": "code",
      "source": [
        "# What is the data type of a tuple\n",
        "mytuple = (\"ashok\", \"ashok\", \"ashok\")\n",
        "\n",
        "print(type(mytuple))"
      ],
      "metadata": {
        "colab": {
          "base_uri": "https://localhost:8080/"
        },
        "id": "Vxl4iWQY0jxk",
        "outputId": "bdb80c84-f64c-4397-a601-0dd8c8a3e7a5"
      },
      "execution_count": null,
      "outputs": [
        {
          "output_type": "stream",
          "name": "stdout",
          "text": [
            "<class 'tuple'>\n"
          ]
        }
      ]
    },
    {
      "cell_type": "code",
      "source": [
        "# Print the last item of the tuple\n",
        "a = (\"a\", \"aa\", \"che\")\n",
        "a = (\"a\", \"aa\", \"che\")\n",
        "print(a[-1])\n"
      ],
      "metadata": {
        "colab": {
          "base_uri": "https://localhost:8080/"
        },
        "id": "Wcwxe0ry2Ate",
        "outputId": "5ed8fef8-9419-4c4f-a42d-d064286b1a57"
      },
      "execution_count": null,
      "outputs": [
        {
          "output_type": "stream",
          "name": "stdout",
          "text": [
            "che\n"
          ]
        }
      ]
    },
    {
      "cell_type": "code",
      "source": [
        "# Return the third, fourth, and fifth item:\n",
        "a = (\"apple\", \"run\", \"ash\", \"ashok\", \"kiwi\", \"prajwal\", \"ashok\")\n",
        "print(a[2:5])\n"
      ],
      "metadata": {
        "colab": {
          "base_uri": "https://localhost:8080/"
        },
        "id": "xoi_0Ynk2QmM",
        "outputId": "96121064-9b35-4201-f3d6-e2d755d1c8a5"
      },
      "execution_count": null,
      "outputs": [
        {
          "output_type": "stream",
          "name": "stdout",
          "text": [
            "('ash', 'ashok', 'kiwi')\n"
          ]
        }
      ]
    },
    {
      "cell_type": "code",
      "source": [
        "# returns the items from the beginning to, but NOT included, \"ram\":\n",
        "a = (\"a\", \"b\", \"c\", \"o\", \"ram\", \"m\", \"ng\")\n",
        "\n",
        "print(a[:4])"
      ],
      "metadata": {
        "colab": {
          "base_uri": "https://localhost:8080/"
        },
        "id": "yVb2id0a2tAk",
        "outputId": "95e43d0b-5693-45a3-a347-4180e19c2d28"
      },
      "execution_count": null,
      "outputs": [
        {
          "output_type": "stream",
          "name": "stdout",
          "text": [
            "('a', 'b', 'c', 'o')\n"
          ]
        }
      ]
    },
    {
      "cell_type": "code",
      "source": [
        "# returns the items from \"oreo\" and to the end\n",
        "thistuple = (\"app\", \"ban\", \"oreo\", \"o\", \"ki\", \"me\", \"man\")\n",
        "\n",
        "print(thistuple[2:])\n"
      ],
      "metadata": {
        "colab": {
          "base_uri": "https://localhost:8080/"
        },
        "id": "D_JXvBcE2ts0",
        "outputId": "3e69d6b0-2b5a-42b7-dcbc-552f88c2a208"
      },
      "execution_count": null,
      "outputs": [
        {
          "output_type": "stream",
          "name": "stdout",
          "text": [
            "('oreo', 'o', 'ki', 'me', 'man')\n"
          ]
        }
      ]
    },
    {
      "cell_type": "code",
      "source": [
        "# returns the items from index -3 (included) to index -1 (excluded)\n",
        "t = (\"app\", \"ban\", \"cher\", \"oreo\", \"ki\", \"lion\", \"mano\")\n",
        "print(t[-3:-1])"
      ],
      "metadata": {
        "colab": {
          "base_uri": "https://localhost:8080/"
        },
        "id": "jGoZvjwO2uvM",
        "outputId": "8cf96d6c-5963-4926-b7dc-a3f1c61e9682"
      },
      "execution_count": null,
      "outputs": [
        {
          "output_type": "stream",
          "name": "stdout",
          "text": [
            "('ki', 'lion')\n"
          ]
        }
      ]
    },
    {
      "cell_type": "code",
      "source": [
        "#Convert the tuple into a list to be able to change it\n",
        "x = (\"ashok\", \"babu\", \"kancharla\")\n",
        "y = list(x)\n",
        "y[1] = \"k\"\n",
        "x = tuple(y)\n",
        "\n",
        "print(x)\n"
      ],
      "metadata": {
        "colab": {
          "base_uri": "https://localhost:8080/"
        },
        "id": "e2Q_tIiT6qrJ",
        "outputId": "64418d4d-279e-4db8-e781-3ee4b71bad23"
      },
      "execution_count": null,
      "outputs": [
        {
          "output_type": "stream",
          "name": "stdout",
          "text": [
            "('ashok', 'k', 'kancharla')\n"
          ]
        }
      ]
    },
    {
      "cell_type": "code",
      "source": [
        "a = (\"ashok\", \"babu\", \"ash\")\n",
        "y = list(a)\n",
        "y.append(\"prajwal\")\n",
        "a = tuple(y)\n",
        "\n",
        "print(a)\n"
      ],
      "metadata": {
        "id": "gT62hPM-7Yut",
        "outputId": "7f71e6d0-f197-45fe-c77e-188a69dce474",
        "colab": {
          "base_uri": "https://localhost:8080/"
        }
      },
      "execution_count": null,
      "outputs": [
        {
          "output_type": "stream",
          "name": "stdout",
          "text": [
            "('ashok', 'babu', 'ash', 'prajwal')\n"
          ]
        }
      ]
    },
    {
      "cell_type": "code",
      "source": [
        "# Create a new tuple with the value \"o\", and add that tuple:\n",
        "x= (\"a\", \"b\", \"c\")\n",
        "y = (\"o\",)\n",
        "x += y\n",
        "\n",
        "print(x)\n"
      ],
      "metadata": {
        "colab": {
          "base_uri": "https://localhost:8080/"
        },
        "id": "UvedVelK7ovV",
        "outputId": "bd21f6be-0fdb-476a-c26a-abe507dd1c9b"
      },
      "execution_count": 22,
      "outputs": [
        {
          "output_type": "stream",
          "name": "stdout",
          "text": [
            "('a', 'b', 'c', 'o')\n"
          ]
        }
      ]
    },
    {
      "cell_type": "code",
      "source": [
        "# Convert the tuple into a list, remove \"apple\", and convert it back into a tuple:\n",
        "x= (\"a\", \"b\", \"c\")\n",
        "y = list(x)\n",
        "y.remove(\"a\")\n",
        "x = tuple(y)\n",
        "\n",
        "print(x)"
      ],
      "metadata": {
        "colab": {
          "base_uri": "https://localhost:8080/"
        },
        "id": "hZhtrXxu8Ef2",
        "outputId": "1c7373b4-54b4-406b-d3e3-f71ecaba71cb"
      },
      "execution_count": 23,
      "outputs": [
        {
          "output_type": "stream",
          "name": "stdout",
          "text": [
            "('b', 'c')\n"
          ]
        }
      ]
    },
    {
      "cell_type": "code",
      "source": [
        "\n",
        "# Unpacking a tuple:\n",
        "\n",
        "fruits = (\"apple\", \"banana\", \"cherry\")\n",
        "\n",
        "(green, yellow, red) = fruits\n",
        "\n",
        "print(green)\n",
        "print(yellow)\n",
        "print(red)\n",
        "\n"
      ],
      "metadata": {
        "colab": {
          "base_uri": "https://localhost:8080/"
        },
        "id": "5L7ClP648YfU",
        "outputId": "7a73d069-267a-4b2c-f692-e753253d43be"
      },
      "execution_count": 26,
      "outputs": [
        {
          "output_type": "stream",
          "name": "stdout",
          "text": [
            "apple\n",
            "banana\n",
            "cherry\n"
          ]
        }
      ]
    },
    {
      "cell_type": "code",
      "source": [
        "# Assign the rest of the values as a list called \"red\":\n",
        "fruits = (\"apple\", \"banana\", \"cherry\", \"strawberry\", \"raspberry\")\n",
        "\n",
        "(green, yellow, *red) = fruits\n",
        "\n",
        "print(green)\n",
        "print(yellow)\n",
        "print(red)\n"
      ],
      "metadata": {
        "colab": {
          "base_uri": "https://localhost:8080/"
        },
        "id": "ZDX5J0jR9qwW",
        "outputId": "fc105909-f933-4bdc-b8c8-a2fcfcd8fe01"
      },
      "execution_count": 27,
      "outputs": [
        {
          "output_type": "stream",
          "name": "stdout",
          "text": [
            "apple\n",
            "banana\n",
            "['cherry', 'strawberry', 'raspberry']\n"
          ]
        }
      ]
    },
    {
      "cell_type": "code",
      "source": [
        "# Add a list of values the \"happy\" variable:\n",
        "fruits = (\"apple\", \"mango\", \"papaya\", \"pineapple\", \"cherry\")\n",
        "\n",
        "(green, *happy, red) = fruits\n",
        "\n",
        "print(green)\n",
        "print(happy)\n",
        "print(red)"
      ],
      "metadata": {
        "colab": {
          "base_uri": "https://localhost:8080/"
        },
        "id": "EC9O2kVC-NsL",
        "outputId": "45682908-9b29-40f7-92b9-917d3956ed47"
      },
      "execution_count": 28,
      "outputs": [
        {
          "output_type": "stream",
          "name": "stdout",
          "text": [
            "apple\n",
            "['mango', 'papaya', 'pineapple']\n",
            "cherry\n"
          ]
        }
      ]
    },
    {
      "cell_type": "code",
      "source": [
        "# Iterate through the items and print the values:\n",
        "a = (\"a\", \"b\", \"c\")\n",
        "for x in a:\n",
        "  print(x)"
      ],
      "metadata": {
        "colab": {
          "base_uri": "https://localhost:8080/"
        },
        "id": "xWFmd_6d-bME",
        "outputId": "65910af4-d764-45cd-cfce-66a1c449eb6f"
      },
      "execution_count": 29,
      "outputs": [
        {
          "output_type": "stream",
          "name": "stdout",
          "text": [
            "a\n",
            "b\n",
            "c\n"
          ]
        }
      ]
    }
  ]
}