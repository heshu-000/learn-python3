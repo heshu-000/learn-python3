{
  "nbformat": 4,
  "nbformat_minor": 0,
  "metadata": {
    "colab": {
      "name": "module1.ipynb",
      "provenance": [],
      "authorship_tag": "ABX9TyMI1fF1xEY98G4oB1F4FwBx",
      "include_colab_link": true
    },
    "kernelspec": {
      "name": "python3",
      "display_name": "Python 3"
    },
    "language_info": {
      "name": "python"
    }
  },
  "cells": [
    {
      "cell_type": "markdown",
      "metadata": {
        "id": "view-in-github",
        "colab_type": "text"
      },
      "source": [
        "<a href=\"https://colab.research.google.com/github/heshu-000/learn-python3/blob/master/module1.ipynb\" target=\"_parent\"><img src=\"https://colab.research.google.com/assets/colab-badge.svg\" alt=\"Open In Colab\"/></a>"
      ]
    },
    {
      "cell_type": "code",
      "source": [
        "a=int(input())\n",
        "print(a)"
      ],
      "metadata": {
        "colab": {
          "base_uri": "https://localhost:8080/"
        },
        "id": "o0aSwCX6g699",
        "outputId": "817a3a24-8c8e-4812-a1f2-393064ac1537"
      },
      "execution_count": 4,
      "outputs": [
        {
          "output_type": "stream",
          "name": "stdout",
          "text": [
            "10\n",
            "10\n"
          ]
        }
      ]
    },
    {
      "cell_type": "code",
      "source": [
        "a=4\n",
        "b=str(a)\n",
        "print(type(b))\n",
        "print(b)"
      ],
      "metadata": {
        "colab": {
          "base_uri": "https://localhost:8080/"
        },
        "id": "FtUwr9cag_kk",
        "outputId": "625013ff-2fd2-4940-e8fe-2232e4f90f1a"
      },
      "execution_count": 5,
      "outputs": [
        {
          "output_type": "stream",
          "name": "stdout",
          "text": [
            "<class 'str'>\n",
            "4\n"
          ]
        }
      ]
    },
    {
      "cell_type": "code",
      "source": [
        "a=1\n",
        "b=\"2\"\n",
        "c=0.3\n",
        "print(type(a))\n",
        "print(type(b))\n",
        "print(type(c))\n"
      ],
      "metadata": {
        "colab": {
          "base_uri": "https://localhost:8080/"
        },
        "id": "oRbCl8zMiIQt",
        "outputId": "fbabb296-634c-4df3-9459-209c1008619a"
      },
      "execution_count": 12,
      "outputs": [
        {
          "output_type": "stream",
          "name": "stdout",
          "text": [
            "<class 'int'>\n",
            "<class 'str'>\n",
            "<class 'float'>\n"
          ]
        }
      ]
    },
    {
      "cell_type": "code",
      "source": [
        "a=int(input())\n",
        "b=int(input())\n",
        "c=a+b\n",
        "d=a-b\n",
        "e=a*b\n",
        "f=a/b\n",
        "g=a%b\n",
        "print(c)\n",
        "print(d)\n",
        "print(e)\n",
        "print(f)\n",
        "print(g)"
      ],
      "metadata": {
        "colab": {
          "base_uri": "https://localhost:8080/"
        },
        "id": "0FfbXLBthDEt",
        "outputId": "5be7a255-8161-4de4-b843-8b87248b7838"
      },
      "execution_count": 6,
      "outputs": [
        {
          "output_type": "stream",
          "name": "stdout",
          "text": [
            "10\n",
            "20\n",
            "30\n",
            "-10\n",
            "200\n",
            "0.5\n",
            "10\n"
          ]
        }
      ]
    },
    {
      "cell_type": "code",
      "source": [
        "#calculator using switch\n",
        "print (\"Enter 1 for addition\")\n",
        "print (\"Enter 2 for subtraction\")\n",
        "print (\"Enter 3 for multiplication\")\n",
        "print (\"Enter 4 for division\")\n",
        "op = int(input(\"Enter number corresponding to operation:\"))\n",
        "a=int(input(\"Enter num1: \"))\n",
        "b=int(input(\"Enter num2: \"))\n",
        "if op == 1:\n",
        "  print(a + b)\n",
        "elif op == 2:\n",
        "  print(a - b)\n",
        "elif op == 3:\n",
        "  print(a - b)\n",
        "elif op == 4:\n",
        "  print(a - b)\n",
        "else:\n",
        "  print(\"Enter a valid input\")"
      ],
      "metadata": {
        "colab": {
          "base_uri": "https://localhost:8080/"
        },
        "id": "TCjZ7a0VhKNc",
        "outputId": "5caaffdb-e06f-4798-d790-c8d5ce1dd523"
      },
      "execution_count": 9,
      "outputs": [
        {
          "output_type": "stream",
          "name": "stdout",
          "text": [
            "Enter 1 for addition\n",
            "Enter 2 for subtraction\n",
            "Enter 3 for multiplication\n",
            "Enter 4 for division\n",
            "Enter number corresponding to operation:2\n",
            "Enter num1: 1\n",
            "Enter num2: 1\n",
            "0\n"
          ]
        }
      ]
    },
    {
      "cell_type": "code",
      "source": [
        "print(\"Enter Marks Obtained in 5 Subjects: \")\n",
        "markOne = int(input())\n",
        "markTwo = int(input())\n",
        "markThree = int(input())\n",
        "markFour = int(input())\n",
        "markFive = int(input())\n",
        "\n",
        "tot = markOne+markTwo+markThree+markFour+markFive\n",
        "avg = tot/5\n",
        "\n",
        "if avg>=91 and avg<=100:\n",
        "    print(\"Your Grade is A1\")\n",
        "elif avg>=81 and avg<91:\n",
        "    print(\"Your Grade is A2\")\n",
        "elif avg>=71 and avg<81:\n",
        "    print(\"Your Grade is B1\")\n",
        "elif avg>=61 and avg<71:\n",
        "    print(\"Your Grade is B2\")\n",
        "elif avg>=51 and avg<61:\n",
        "    print(\"Your Grade is C1\")\n",
        "elif avg>=41 and avg<51:\n",
        "    print(\"Your Grade is C2\")\n",
        "elif avg>=33 and avg<41:\n",
        "    print(\"Your Grade is D\")\n",
        "elif avg>=21 and avg<33:\n",
        "    print(\"Your Grade is E1\")\n",
        "elif avg>=0 and avg<21:\n",
        "    print(\"Your Grade is E2\")\n",
        "else:\n",
        "    print(\"Invalid Input!\")\n",
        "    1"
      ],
      "metadata": {
        "colab": {
          "base_uri": "https://localhost:8080/"
        },
        "id": "SDJxy1MKhrF1",
        "outputId": "5e2287e9-9da8-4908-c3aa-909962892eb3"
      },
      "execution_count": 11,
      "outputs": [
        {
          "output_type": "stream",
          "name": "stdout",
          "text": [
            "Enter Marks Obtained in 5 Subjects: \n",
            "10\n",
            "1\n",
            "1\n",
            "1\n",
            "1\n",
            "Your Grade is E2\n"
          ]
        }
      ]
    },
    {
      "cell_type": "code",
      "source": [
        "# printing odd even numbers\n"
      ],
      "metadata": {
        "id": "nvnOBt8qnXAd"
      },
      "execution_count": null,
      "outputs": []
    },
    {
      "cell_type": "code",
      "source": [
        "a=0\n",
        "b=1\n",
        "even=[]\n",
        "odd=[]\n",
        "for x in range(100):\n",
        "  if a==x%2:\n",
        "    even.append(x)\n",
        "print(even)\n",
        "for y in range(100):\n",
        "  if a==y%2:\n",
        "    odd.append(y)\n",
        "print(odd)\n",
        "print(len(even))\n",
        "print(len(odd))"
      ],
      "metadata": {
        "colab": {
          "base_uri": "https://localhost:8080/"
        },
        "id": "wIpncSjChKUP",
        "outputId": "067c565c-acfe-407f-837c-598edc31b30f"
      },
      "execution_count": 16,
      "outputs": [
        {
          "output_type": "stream",
          "name": "stdout",
          "text": [
            "[0, 2, 4, 6, 8, 10, 12, 14, 16, 18, 20, 22, 24, 26, 28, 30, 32, 34, 36, 38, 40, 42, 44, 46, 48, 50, 52, 54, 56, 58, 60, 62, 64, 66, 68, 70, 72, 74, 76, 78, 80, 82, 84, 86, 88, 90, 92, 94, 96, 98]\n",
            "[0, 2, 4, 6, 8, 10, 12, 14, 16, 18, 20, 22, 24, 26, 28, 30, 32, 34, 36, 38, 40, 42, 44, 46, 48, 50, 52, 54, 56, 58, 60, 62, 64, 66, 68, 70, 72, 74, 76, 78, 80, 82, 84, 86, 88, 90, 92, 94, 96, 98]\n",
            "50\n",
            "50\n"
          ]
        }
      ]
    },
    {
      "cell_type": "code",
      "source": [
        "#compound intrest"
      ],
      "metadata": {
        "id": "q_pShakOncrz"
      },
      "execution_count": null,
      "outputs": []
    },
    {
      "cell_type": "code",
      "source": [
        "n=int(input(\"Enter the principle amount:\"))\n",
        "\n",
        "rate=int(input(\"Enter the rate:\"))\n",
        "\n",
        "years=int(input(\"Enter the number of years:\"))\n",
        "\n",
        "for i in range(years):\n",
        "\n",
        "    n=n+((n*rate)/100)\n",
        "\n",
        "print(n)\n",
        " "
      ],
      "metadata": {
        "colab": {
          "base_uri": "https://localhost:8080/"
        },
        "id": "doLQ6Vlnnzy_",
        "outputId": "df41f7fd-b62e-4bef-e20c-c6810c4e2cfb"
      },
      "execution_count": 17,
      "outputs": [
        {
          "output_type": "stream",
          "name": "stdout",
          "text": [
            "Enter the principle amount:100\n",
            "Enter the rate:50\n",
            "Enter the number of years:3\n",
            "337.5\n"
          ]
        }
      ]
    }
  ]
}