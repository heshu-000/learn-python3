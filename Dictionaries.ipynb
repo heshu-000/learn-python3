{
  "nbformat": 4,
  "nbformat_minor": 0,
  "metadata": {
    "colab": {
      "name": "Dictionaries.ipynb",
      "provenance": [],
      "authorship_tag": "ABX9TyOiLpQuvVHW+49Vu1uGIt+b",
      "include_colab_link": true
    },
    "kernelspec": {
      "name": "python3",
      "display_name": "Python 3"
    },
    "language_info": {
      "name": "python"
    }
  },
  "cells": [
    {
      "cell_type": "markdown",
      "metadata": {
        "id": "view-in-github",
        "colab_type": "text"
      },
      "source": [
        "<a href=\"https://colab.research.google.com/github/heshu-000/learn-python3/blob/master/Dictionaries.ipynb\" target=\"_parent\"><img src=\"https://colab.research.google.com/assets/colab-badge.svg\" alt=\"Open In Colab\"/></a>"
      ]
    },
    {
      "cell_type": "code",
      "execution_count": 1,
      "metadata": {
        "colab": {
          "base_uri": "https://localhost:8080/"
        },
        "id": "HrE28xGzUoy5",
        "outputId": "f1f7bf69-74a1-45eb-f7cc-84d410ffee39"
      },
      "outputs": [
        {
          "output_type": "stream",
          "name": "stdout",
          "text": [
            "{'brand': 'royal enfield', 'model': 'classic 350', 'year': 1964}\n"
          ]
        }
      ],
      "source": [
        "# Create and print a dictionary:\n",
        "x = {\n",
        "  \"brand\": \"royal enfield\",\n",
        "  \"model\": \"classic 350\",\n",
        "  \"year\": 1964\n",
        "}\n",
        "print(x)\n",
        "\n"
      ]
    },
    {
      "cell_type": "code",
      "source": [
        "#Print the \"brand\" value of the dictionary:\n",
        "x = {\n",
        "  \"brand\": \"royal enfield\",\n",
        "  \"model\": \"classic 350\",\n",
        "  \"year\": 1964\n",
        "}\n",
        "print(x[\"brand\"])"
      ],
      "metadata": {
        "colab": {
          "base_uri": "https://localhost:8080/"
        },
        "id": "9A53F1lIVgZE",
        "outputId": "7cb625fd-9f2a-4a0f-a6c6-9801fb536b2c"
      },
      "execution_count": 2,
      "outputs": [
        {
          "output_type": "stream",
          "name": "stdout",
          "text": [
            "royal enfield\n"
          ]
        }
      ]
    },
    {
      "cell_type": "code",
      "source": [
        "#Duplicate values will overwrite existing values:\n",
        "thisdict = {\n",
        "  \"brand\": \"royal enfield\",\n",
        "  \"model\": \"classic 350\",\n",
        "  \"year\": 1964,\n",
        "  \"year\": 2022\n",
        "}\n",
        "print(thisdict)"
      ],
      "metadata": {
        "colab": {
          "base_uri": "https://localhost:8080/"
        },
        "id": "QYVV4JbxV2lN",
        "outputId": "0b825663-ad36-4d79-f9e9-f727bda18fb2"
      },
      "execution_count": 3,
      "outputs": [
        {
          "output_type": "stream",
          "name": "stdout",
          "text": [
            "{'brand': 'royal enfield', 'model': 'classic 350', 'year': 2022}\n"
          ]
        }
      ]
    },
    {
      "cell_type": "code",
      "source": [
        "#String, int, boolean, and list data types:\n",
        "x = {\n",
        "  \"brand\": \"royal enfield\",\n",
        "  \"electric\": False,\n",
        "  \"year\": 1964,\n",
        "  \"colors\": [\"red\", \"white\", \"blue\"]\n",
        "  }\n",
        "print(x)\n"
      ],
      "metadata": {
        "colab": {
          "base_uri": "https://localhost:8080/"
        },
        "id": "6iwfM-hlWIok",
        "outputId": "8a045422-cdd6-47e8-e4da-478e2cace7d9"
      },
      "execution_count": 7,
      "outputs": [
        {
          "output_type": "stream",
          "name": "stdout",
          "text": [
            "{'brand': 'royal enfield', 'electric': False, 'year': 1964, 'colors': ['red', 'white', 'blue']}\n"
          ]
        }
      ]
    },
    {
      "cell_type": "code",
      "source": [
        "# Print the data type of a dictionary:\n",
        "x = {\n",
        "  \"brand\": \"RE\",\n",
        "  \"model\": \"classic 350\",\n",
        "  \"year\": 1964\n",
        "}\n",
        "print(type(x))"
      ],
      "metadata": {
        "colab": {
          "base_uri": "https://localhost:8080/"
        },
        "id": "K1t717VmWt2F",
        "outputId": "d955cfc4-63b9-4490-dae3-d96538513fab"
      },
      "execution_count": 8,
      "outputs": [
        {
          "output_type": "stream",
          "name": "stdout",
          "text": [
            "<class 'dict'>\n"
          ]
        }
      ]
    },
    {
      "cell_type": "code",
      "source": [
        "#Get the value of the \"model\" key:\n",
        "y = {\n",
        "  \"brand\": \"RE\",\n",
        "  \"model\": \"classic 350\",\n",
        "  \"year\": 1964\n",
        "}\n",
        "x = y[\"model\"]\n",
        "print(x)\n"
      ],
      "metadata": {
        "colab": {
          "base_uri": "https://localhost:8080/"
        },
        "id": "kR1wMRBXXRNr",
        "outputId": "ffd11528-efbc-4cb7-e320-3d6b711d1db0"
      },
      "execution_count": 11,
      "outputs": [
        {
          "output_type": "stream",
          "name": "stdout",
          "text": [
            "classic 350\n"
          ]
        }
      ]
    },
    {
      "cell_type": "code",
      "source": [
        "#Add a new item to the original dictionary, and see that the keys list gets updated as well:\n",
        "bike = {\n",
        "\"brand\": \"RE\",\n",
        "\"model\": \"continental GT\",\n",
        "\"year\": 1964\n",
        "}\n",
        "\n",
        "x = bike.keys()\n",
        "\n",
        "print(x)\n",
        "\n",
        "bike[\"color\"] = \"silver\"\n",
        "\n",
        "print(x)"
      ],
      "metadata": {
        "colab": {
          "base_uri": "https://localhost:8080/"
        },
        "id": "3CF1zRpGYH9i",
        "outputId": "747860ca-8222-4fef-be26-900d915c12a9"
      },
      "execution_count": 12,
      "outputs": [
        {
          "output_type": "stream",
          "name": "stdout",
          "text": [
            "dict_keys(['brand', 'model', 'year'])\n",
            "dict_keys(['brand', 'model', 'year', 'color'])\n"
          ]
        }
      ]
    },
    {
      "cell_type": "code",
      "source": [
        "#Make a change in the original dictionary, and see that the items list gets updated as well:\n",
        "bike = {\n",
        "\"brand\": \"RE\",\n",
        "\"model\": \"gt\",\n",
        "\"year\": 1964\n",
        "}\n",
        "\n",
        "x = bike.items()\n",
        "\n",
        "print(x) \n",
        "\n",
        "bike[\"year\"] = 2020\n",
        "\n",
        "print(x)"
      ],
      "metadata": {
        "colab": {
          "base_uri": "https://localhost:8080/"
        },
        "id": "kzPZStKHYwS1",
        "outputId": "04b8b71c-3ee5-42ab-e42f-d984aead7a0b"
      },
      "execution_count": 13,
      "outputs": [
        {
          "output_type": "stream",
          "name": "stdout",
          "text": [
            "dict_items([('brand', 'RE'), ('model', 'gt'), ('year', 1964)])\n",
            "dict_items([('brand', 'RE'), ('model', 'gt'), ('year', 2020)])\n"
          ]
        }
      ]
    },
    {
      "cell_type": "code",
      "source": [
        "#Check if \"model\" is present in the dictionary:\n",
        "x = {\n",
        "  \"brand\": \"RE\",\n",
        "  \"model\": \"GT\",\n",
        "  \"year\": 1964\n",
        "}\n",
        "if \"model\" in x:\n",
        "  print(\"Yes, 'model' is one of the keys in the x dictionary\")"
      ],
      "metadata": {
        "colab": {
          "base_uri": "https://localhost:8080/"
        },
        "id": "hiZO1SoPZWg2",
        "outputId": "a6f809d1-f4bc-45d7-c6c9-d64a5d09d51c"
      },
      "execution_count": 14,
      "outputs": [
        {
          "output_type": "stream",
          "name": "stdout",
          "text": [
            "Yes, 'model' is one of the keys in the x dictionary\n"
          ]
        }
      ]
    },
    {
      "cell_type": "code",
      "source": [
        "#Change the \"year\" to 2018:\n",
        "x = {\n",
        "  \"brand\": \"RE\",\n",
        "  \"model\": \"GT\",\n",
        "  \"year\": 1964\n",
        "}\n",
        "x[\"year\"] = 2018\n",
        "print(x)"
      ],
      "metadata": {
        "colab": {
          "base_uri": "https://localhost:8080/"
        },
        "id": "VMdZpfWZZ1EU",
        "outputId": "a84bb174-64bd-4a92-82a9-8fe91b5d285a"
      },
      "execution_count": 17,
      "outputs": [
        {
          "output_type": "stream",
          "name": "stdout",
          "text": [
            "{'brand': 'RE', 'model': 'GT', 'year': 2018}\n"
          ]
        }
      ]
    },
    {
      "cell_type": "code",
      "source": [
        "#Update the \"year\" of the car by using the update() method:\n",
        "x = {\n",
        "  \"brand\": \"re\",\n",
        "  \"model\": \"gt\",\n",
        "  \"year\": 1964\n",
        "}\n",
        "x.update({\"year\": 2020})\n",
        "\n",
        "print(x)\n"
      ],
      "metadata": {
        "colab": {
          "base_uri": "https://localhost:8080/"
        },
        "id": "B8FVHVxsaKAG",
        "outputId": "46cce306-124c-44e8-be5e-d8d6d25662f1"
      },
      "execution_count": 18,
      "outputs": [
        {
          "output_type": "stream",
          "name": "stdout",
          "text": [
            "{'brand': 're', 'model': 'gt', 'year': 2020}\n"
          ]
        }
      ]
    },
    {
      "cell_type": "code",
      "source": [
        "#Adding an item to the dictionary is done by using a new index key and assigning a value to it:\n",
        "x= {\n",
        "  \"brand\": \"Re\",\n",
        "  \"model\": \"classic 350\",\n",
        "  \"year\": 1964\n",
        "}\n",
        "x[\"color\"] = \"red\"\n",
        "print(x)"
      ],
      "metadata": {
        "colab": {
          "base_uri": "https://localhost:8080/"
        },
        "id": "7Y10xlZ9aKIy",
        "outputId": "3c4ec364-2a13-471b-b625-88143ed2a953"
      },
      "execution_count": 19,
      "outputs": [
        {
          "output_type": "stream",
          "name": "stdout",
          "text": [
            "{'brand': 'Re', 'model': 'classic 350', 'year': 1964, 'color': 'red'}\n"
          ]
        }
      ]
    },
    {
      "cell_type": "code",
      "source": [
        "#Add a color item to the dictionary by using the update() method:\n",
        "x = {\n",
        "  \"brand\": \"re\",\n",
        "  \"model\": \"gt\",\n",
        "  \"year\": 1964\n",
        "}\n",
        "x.update({\"color\": \"red\"})\n",
        "\n",
        "print(x)"
      ],
      "metadata": {
        "colab": {
          "base_uri": "https://localhost:8080/"
        },
        "id": "s_aeKYZDbVlZ",
        "outputId": "28bdc8bf-c2bb-4bc6-8de5-64090c24597f"
      },
      "execution_count": 20,
      "outputs": [
        {
          "output_type": "stream",
          "name": "stdout",
          "text": [
            "{'brand': 're', 'model': 'gt', 'year': 1964, 'color': 'red'}\n"
          ]
        }
      ]
    },
    {
      "cell_type": "code",
      "source": [
        "#The pop() method removes the item with the specified key name:\n",
        "x =\t{\n",
        "  \"brand\": \"re\",\n",
        "  \"model\": \"gt\",\n",
        "  \"year\": 1964\n",
        "}\n",
        "x.pop(\"model\")\n",
        "print(x)"
      ],
      "metadata": {
        "colab": {
          "base_uri": "https://localhost:8080/"
        },
        "id": "0iWpmfC9bhzu",
        "outputId": "76f50d12-256c-42d3-828b-993cd1c2bc85"
      },
      "execution_count": 25,
      "outputs": [
        {
          "output_type": "stream",
          "name": "stdout",
          "text": [
            "{'brand': 'Ford', 'year': 1964}\n"
          ]
        }
      ]
    },
    {
      "cell_type": "code",
      "source": [
        "#The del keyword removes the item with the specified key name:\n",
        "x = {\n",
        "  \"brand\": \"re\",\n",
        "  \"model\": \"gt\",\n",
        "  \"year\": 1964\n",
        "}\n",
        "del x[\"model\"]\n",
        "print(x)"
      ],
      "metadata": {
        "colab": {
          "base_uri": "https://localhost:8080/"
        },
        "id": "Fzf61eq4cSQJ",
        "outputId": "7f81a78e-9733-4080-b58d-5356702ca2bd"
      },
      "execution_count": 26,
      "outputs": [
        {
          "output_type": "stream",
          "name": "stdout",
          "text": [
            "{'brand': 're', 'year': 1964}\n"
          ]
        }
      ]
    },
    {
      "cell_type": "code",
      "source": [
        "#The clear() method empties the dictionary:\n",
        "x = {\n",
        "  \"brand\": \"re\",\n",
        "  \"model\": \"gt\",\n",
        "  \"year\": 1964\n",
        "}\n",
        "x.clear()\n",
        "print(x)\n"
      ],
      "metadata": {
        "colab": {
          "base_uri": "https://localhost:8080/"
        },
        "id": "gsd49IAUccNu",
        "outputId": "dd3183c5-c6ee-4390-ec92-d20dee29a929"
      },
      "execution_count": 29,
      "outputs": [
        {
          "output_type": "stream",
          "name": "stdout",
          "text": [
            "{}\n"
          ]
        }
      ]
    },
    {
      "cell_type": "code",
      "source": [
        "#Create a dictionary that contain three dictionaries\n",
        "friends = {\n",
        "  \"child1\" : {\n",
        "    \"name\" : \"prajwal\",\n",
        "    \"year\" : 2004\n",
        "  },\n",
        "  \"child2\" : {\n",
        "    \"name\" : \"amrutg\",\n",
        "    \"year\" : 2007\n",
        "  },\n",
        "  \"child3\" : {\n",
        "    \"name\" : \"ashok\",\n",
        "    \"year\" : 2011\n",
        "  }\n",
        "}\n",
        "print(friends)\n"
      ],
      "metadata": {
        "colab": {
          "base_uri": "https://localhost:8080/"
        },
        "id": "WiA8E1ZhdC6o",
        "outputId": "fb3dfbf4-c9bd-4886-8b10-e068c1ef749e"
      },
      "execution_count": 31,
      "outputs": [
        {
          "output_type": "stream",
          "name": "stdout",
          "text": [
            "{'child1': {'name': 'prajwal', 'year': 2004}, 'child2': {'name': 'amrutg', 'year': 2007}, 'child3': {'name': 'ashok', 'year': 2011}}\n"
          ]
        }
      ]
    },
    {
      "cell_type": "code",
      "source": [
        "#Create three dictionaries, then create one dictionary that will contain the other three dictionaries:\n",
        "child1 = {\n",
        "  \"name\" : \"prajwal\",\n",
        "  \"year\" : 2004\n",
        "}\n",
        "child2 = {\n",
        "  \"name\" : \"amruth\",\n",
        "  \"year\" : 2007\n",
        "}\n",
        "child3 = {\n",
        "  \"name\" : \"ashok\",\n",
        "  \"year\" : 2011\n",
        "}\n",
        "\n",
        "friends = {\n",
        "  \"child1\" : child1,\n",
        "  \"child2\" : child2,\n",
        "  \"child3\" : child3\n",
        "}\n",
        "\n",
        "print(friends)"
      ],
      "metadata": {
        "colab": {
          "base_uri": "https://localhost:8080/"
        },
        "id": "qhjNDPBxdiMY",
        "outputId": "dd789ae7-7e5d-46e5-bdf6-cbd9014603a4"
      },
      "execution_count": 32,
      "outputs": [
        {
          "output_type": "stream",
          "name": "stdout",
          "text": [
            "{'child1': {'name': 'prajwal', 'year': 2004}, 'child2': {'name': 'amruth', 'year': 2007}, 'child3': {'name': 'ashok', 'year': 2011}}\n"
          ]
        }
      ]
    },
    {
      "cell_type": "code",
      "source": [
        "#Make a copy of a dictionary with the copy() method:\n",
        "x = {\n",
        "  \"brand\": \"re\",\n",
        "  \"model\": \"gt\",\n",
        "  \"year\": 1964\n",
        "}\n",
        "y = x.copy()\n",
        "print(x)"
      ],
      "metadata": {
        "colab": {
          "base_uri": "https://localhost:8080/"
        },
        "id": "ZhN2eqhPd0f3",
        "outputId": "70252be1-7364-49bb-b90d-0cd7499da36d"
      },
      "execution_count": 33,
      "outputs": [
        {
          "output_type": "stream",
          "name": "stdout",
          "text": [
            "{'brand': 're', 'model': 'gt', 'year': 1964}\n"
          ]
        }
      ]
    },
    {
      "cell_type": "code",
      "source": [
        "# Make a copy of a dictionary with the dict() function:\n",
        "x = {\n",
        "  \"brand\": \"RE\",\n",
        "  \"model\": \"GT\",\n",
        "  \"year\": 1964\n",
        "}\n",
        "y = dict(x)\n",
        "print(x)"
      ],
      "metadata": {
        "colab": {
          "base_uri": "https://localhost:8080/"
        },
        "id": "nlJh6GdZeH85",
        "outputId": "a43e9ce7-25ab-4d76-9666-45b9f2910e4c"
      },
      "execution_count": 35,
      "outputs": [
        {
          "output_type": "stream",
          "name": "stdout",
          "text": [
            "{'brand': 'RE', 'model': 'GT', 'year': 1964}\n"
          ]
        }
      ]
    }
  ]
}