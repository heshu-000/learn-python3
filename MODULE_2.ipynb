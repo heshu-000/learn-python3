{
  "nbformat": 4,
  "nbformat_minor": 0,
  "metadata": {
    "colab": {
      "name": "MODULE--2.ipynb",
      "provenance": [],
      "authorship_tag": "ABX9TyMzCYkmNIcizsjPImHXhm4R",
      "include_colab_link": true
    },
    "kernelspec": {
      "name": "python3",
      "display_name": "Python 3"
    },
    "language_info": {
      "name": "python"
    }
  },
  "cells": [
    {
      "cell_type": "markdown",
      "metadata": {
        "id": "view-in-github",
        "colab_type": "text"
      },
      "source": [
        "<a href=\"https://colab.research.google.com/github/heshu-000/learn-python3/blob/master/MODULE_2.ipynb\" target=\"_parent\"><img src=\"https://colab.research.google.com/assets/colab-badge.svg\" alt=\"Open In Colab\"/></a>"
      ]
    },
    {
      "cell_type": "markdown",
      "source": [
        "# Create a function which accepts two inputs from the user and compute nCr\n"
      ],
      "metadata": {
        "id": "5UXyUv5Eo5Po"
      }
    },
    {
      "cell_type": "code",
      "source": [
        "def nCr(n, r):\n",
        "\n",
        "\treturn (fact(n) / (fact(r)\n",
        "\t\t\t\t* fact(n - r)))\n",
        "def fact(n):\n",
        "\n",
        "\tres = 1\n",
        "\t\n",
        "\tfor i in range(2, n+1):\n",
        "\t\tres = res * i\n",
        "\t\t\n",
        "\treturn res\n",
        "n = 6\n",
        "r = 3\n",
        "print(int(nCr(n, r)))\n"
      ],
      "metadata": {
        "colab": {
          "base_uri": "https://localhost:8080/"
        },
        "id": "kd8qXx4upUk5",
        "outputId": "45ba2660-fb7a-404e-af24-4c54676b7c07"
      },
      "execution_count": null,
      "outputs": [
        {
          "output_type": "stream",
          "name": "stdout",
          "text": [
            "20\n"
          ]
        }
      ]
    },
    {
      "cell_type": "markdown",
      "source": [
        "# Program to print a specified list after removing the 0th, 4th and 5th elements.\n",
        "Sample List : ['Red', 'Green', 'White', 'Black', 'Pink', 'Yellow']\n",
        "Expected Output : ['Green', 'White', 'Black'"
      ],
      "metadata": {
        "id": "Uo5iIuuQslJJ"
      }
    },
    {
      "cell_type": "code",
      "source": [
        "color = ['Red', 'Green', 'White', 'Black', 'Pink', 'Yellow']\n",
        "color.pop(0)\n",
        "color.pop(3)\n",
        "color.pop(3)\n",
        "print(color)"
      ],
      "metadata": {
        "colab": {
          "base_uri": "https://localhost:8080/"
        },
        "id": "0fSD_jESsoBL",
        "outputId": "e01bc831-5d87-46de-9e58-ad9388272bf5"
      },
      "execution_count": 12,
      "outputs": [
        {
          "output_type": "stream",
          "name": "stdout",
          "text": [
            "['Green', 'White', 'Black']\n"
          ]
        }
      ]
    },
    {
      "cell_type": "markdown",
      "source": [
        "#  Program to get the difference between the two lists."
      ],
      "metadata": {
        "id": "MSlSLl2PyziY"
      }
    },
    {
      "cell_type": "code",
      "source": [
        ""
      ],
      "metadata": {
        "id": "w71blwGZy4zW"
      },
      "execution_count": null,
      "outputs": []
    },
    {
      "cell_type": "markdown",
      "source": [
        ""
      ],
      "metadata": {
        "id": "ISn9BoZYrluJ"
      }
    }
  ]
}