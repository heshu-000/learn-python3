{
  "nbformat": 4,
  "nbformat_minor": 0,
  "metadata": {
    "colab": {
      "name": "Untitled3.ipynb",
      "provenance": [],
      "authorship_tag": "ABX9TyN+8Xql/48cMVuzsjGZ+xs1",
      "include_colab_link": true
    },
    "kernelspec": {
      "name": "python3",
      "display_name": "Python 3"
    },
    "language_info": {
      "name": "python"
    }
  },
  "cells": [
    {
      "cell_type": "markdown",
      "metadata": {
        "id": "view-in-github",
        "colab_type": "text"
      },
      "source": [
        "<a href=\"https://colab.research.google.com/github/heshu-000/learn-python3/blob/master/Untitled3.ipynb\" target=\"_parent\"><img src=\"https://colab.research.google.com/assets/colab-badge.svg\" alt=\"Open In Colab\"/></a>"
      ]
    },
    {
      "cell_type": "code",
      "execution_count": null,
      "metadata": {
        "colab": {
          "base_uri": "https://localhost:8080/"
        },
        "id": "I9OcSgowYlOU",
        "outputId": "fad7fd5c-165c-4b11-eb85-18d8f8ed6c25"
      },
      "outputs": [
        {
          "output_type": "stream",
          "name": "stdout",
          "text": [
            "R m\n"
          ]
        }
      ],
      "source": [
        "a=\"RRR movie has released\"\n",
        "print(a[2:5])"
      ]
    },
    {
      "cell_type": "code",
      "source": [
        "# modify the upper case\n",
        "a=\"RRR movie has released\"\n",
        "print(a.upper())"
      ],
      "metadata": {
        "colab": {
          "base_uri": "https://localhost:8080/"
        },
        "id": "wHzD50XAY_Ml",
        "outputId": "5de6ecc4-7498-4b7f-fcb1-77162b089d89"
      },
      "execution_count": null,
      "outputs": [
        {
          "output_type": "stream",
          "name": "stdout",
          "text": [
            "RRR MOVIE HAS RELEASED\n"
          ]
        }
      ]
    },
    {
      "cell_type": "code",
      "source": [
        "#modify the lower case\n",
        "a=\"RRR movie has released\"\n",
        "print(a.lower())"
      ],
      "metadata": {
        "colab": {
          "base_uri": "https://localhost:8080/"
        },
        "id": "iNuA6fKnZXvl",
        "outputId": "b71006b6-a2f8-4670-8224-adc8e7f67db4"
      },
      "execution_count": null,
      "outputs": [
        {
          "output_type": "stream",
          "name": "stdout",
          "text": [
            "rrr movie has released\n"
          ]
        }
      ]
    },
    {
      "cell_type": "code",
      "source": [
        "a=\"RRR movie has released\"\n",
        "print(a.upper())\n",
        "print(a.lower())"
      ],
      "metadata": {
        "colab": {
          "base_uri": "https://localhost:8080/"
        },
        "id": "dRETSMmzahcz",
        "outputId": "a99ff0a9-18a9-4c95-961e-1f4e22bad08f"
      },
      "execution_count": null,
      "outputs": [
        {
          "output_type": "stream",
          "name": "stdout",
          "text": [
            "RRR MOVIE HAS RELEASED\n",
            "rrr movie has released\n"
          ]
        }
      ]
    },
    {
      "cell_type": "code",
      "source": [
        "# replace\n",
        "a=\"RRR movie has released\"\n",
        "print(a.replace(\"RRR\", \"RADHESHYAM\"))\n"
      ],
      "metadata": {
        "colab": {
          "base_uri": "https://localhost:8080/"
        },
        "id": "_dWhXuBmaeYk",
        "outputId": "42181419-c41b-4c90-b86b-c48eb7d57328"
      },
      "execution_count": null,
      "outputs": [
        {
          "output_type": "stream",
          "name": "stdout",
          "text": [
            "RADHESHYAM movie has released\n"
          ]
        }
      ]
    },
    {
      "cell_type": "code",
      "source": [
        "#modify the strip\n",
        "a=\"RRR movie has released\"\n",
        "print(a.strip())\n"
      ],
      "metadata": {
        "colab": {
          "base_uri": "https://localhost:8080/"
        },
        "id": "t0rATXGvZtkj",
        "outputId": "8f3d835e-a738-4ef3-cd27-31f5c3b88330"
      },
      "execution_count": null,
      "outputs": [
        {
          "output_type": "stream",
          "name": "stdout",
          "text": [
            "RRR movie has released\n"
          ]
        }
      ]
    },
    {
      "cell_type": "code",
      "source": [
        "# Split string \n",
        "a=\"RRR movie has released\"\n",
        "print(a.split())"
      ],
      "metadata": {
        "colab": {
          "base_uri": "https://localhost:8080/"
        },
        "id": "vF6B3MfNbYht",
        "outputId": "7a0f471c-726b-462a-c235-92b756659dd6"
      },
      "execution_count": null,
      "outputs": [
        {
          "output_type": "stream",
          "name": "stdout",
          "text": [
            "['RRR', 'movie', 'has', 'released']\n"
          ]
        }
      ]
    },
    {
      "cell_type": "code",
      "source": [
        "# Split string \n",
        "a=\"RRR movie has released\"\n",
        "print(a.split(','))"
      ],
      "metadata": {
        "colab": {
          "base_uri": "https://localhost:8080/"
        },
        "id": "qF4We-rQbYyL",
        "outputId": "62c8adf4-99a9-4a18-e0e3-491625696c56"
      },
      "execution_count": null,
      "outputs": [
        {
          "output_type": "stream",
          "name": "stdout",
          "text": [
            "['RRR movie has released']\n"
          ]
        }
      ]
    },
    {
      "cell_type": "code",
      "source": [
        "PRICE=\"150\"\n",
        "QUANTITY=\"3\"\n",
        "ITEM=\"1\"\n",
        "NAME=\"THUMSUP\"\n",
        "MYORDER=\"I BUYED {3} WITH{0}HAVING{1} AND PURCHASING{2}\"\n",
        "print(MYORDER, format(PRICE,QUANTITY))"
      ],
      "metadata": {
        "id": "jTRqprkedxiU",
        "colab": {
          "base_uri": "https://localhost:8080/",
          "height": 0
        },
        "outputId": "ea227bf8-0d32-45b0-ae42-c412078f9f61"
      },
      "execution_count": 26,
      "outputs": [
        {
          "output_type": "stream",
          "name": "stdout",
          "text": [
            "I BUYED {3} WITH{0}HAVING{1} AND PURCHASING{2} 150\n"
          ]
        }
      ]
    },
    {
      "cell_type": "code",
      "source": [
        "S1=int(input(\"enter maths marks\"))\n",
        "S2=int(input(\"enter phy marks\"))\n",
        "S3=int(input(\"enter cse marks\"))\n",
        "S4=int(input(\"enter lab marks\"))\n",
        "a=\"I got {0} marks in maths,{1} marks in phy,{2} marks in cse,{3} marks in lab\"\n",
        "print(a.format(S1,S2,S3,S4))"
      ],
      "metadata": {
        "colab": {
          "base_uri": "https://localhost:8080/"
        },
        "id": "ByeRG02tjHxT",
        "outputId": "1350e36e-87f9-467a-86e4-07170e2261a4"
      },
      "execution_count": 46,
      "outputs": [
        {
          "output_type": "stream",
          "name": "stdout",
          "text": [
            "enter maths marks90\n",
            "enter phy marks9\n",
            "enter cse marks89\n",
            "enter lab marks90\n",
            "I got 90 marks in maths,9 marks in phy,89 marks in cse,90 marks in lab\n"
          ]
        }
      ]
    },
    {
      "cell_type": "code",
      "source": [
        ""
      ],
      "metadata": {
        "id": "0wepTFqbolkT"
      },
      "execution_count": null,
      "outputs": []
    }
  ]
}