{
  "nbformat": 4,
  "nbformat_minor": 0,
  "metadata": {
    "colab": {
      "name": "FUNCTIONS.ipynb",
      "provenance": [],
      "authorship_tag": "ABX9TyMleJY2b0ZupuuM877OKli2",
      "include_colab_link": true
    },
    "kernelspec": {
      "name": "python3",
      "display_name": "Python 3"
    },
    "language_info": {
      "name": "python"
    }
  },
  "cells": [
    {
      "cell_type": "markdown",
      "metadata": {
        "id": "view-in-github",
        "colab_type": "text"
      },
      "source": [
        "<a href=\"https://colab.research.google.com/github/heshu-000/learn-python3/blob/master/FUNCTIONS.ipynb\" target=\"_parent\"><img src=\"https://colab.research.google.com/assets/colab-badge.svg\" alt=\"Open In Colab\"/></a>"
      ]
    },
    {
      "cell_type": "markdown",
      "source": [
        "# Creating a Function"
      ],
      "metadata": {
        "id": "CGmcXWViPIFO"
      }
    },
    {
      "cell_type": "code",
      "source": [
        "def my_function():\n",
        "  print(\"Hello from a function\")"
      ],
      "metadata": {
        "id": "1oxeyabzPMne"
      },
      "execution_count": 1,
      "outputs": []
    },
    {
      "cell_type": "markdown",
      "source": [
        "# Calling a Function"
      ],
      "metadata": {
        "id": "ryq0A6X4P-Q1"
      }
    },
    {
      "cell_type": "code",
      "source": [
        "def x ():\n",
        "  print(\"praneeth\")\n",
        "\n",
        "x()"
      ],
      "metadata": {
        "colab": {
          "base_uri": "https://localhost:8080/"
        },
        "id": "RvPGsOy_P_u-",
        "outputId": "1ad2890c-42a9-4f93-ec11-7ccd93067d73"
      },
      "execution_count": 2,
      "outputs": [
        {
          "output_type": "stream",
          "name": "stdout",
          "text": [
            "praneeth\n"
          ]
        }
      ]
    },
    {
      "cell_type": "markdown",
      "source": [
        "#Arguments"
      ],
      "metadata": {
        "id": "4qxhbyx5QLTt"
      }
    },
    {
      "cell_type": "code",
      "source": [
        "def x(fname):\n",
        "  print(fname + \" friends\")\n",
        "\n",
        "x(\"heshu\")\n",
        "x(\"prajwal\")\n",
        "x(\"praneeth\")\n"
      ],
      "metadata": {
        "colab": {
          "base_uri": "https://localhost:8080/"
        },
        "id": "z4g2e7rFQQU-",
        "outputId": "a51e2492-d14d-42b3-af2d-c31b17ed8bea"
      },
      "execution_count": 3,
      "outputs": [
        {
          "output_type": "stream",
          "name": "stdout",
          "text": [
            "heshu friends\n",
            "prajwal friends\n",
            "praneeth friends\n"
          ]
        }
      ]
    },
    {
      "cell_type": "markdown",
      "source": [
        "# Number of Arguments"
      ],
      "metadata": {
        "id": "EiIvMvEmQq1m"
      }
    },
    {
      "cell_type": "code",
      "source": [
        "def x(prajwal, pra):\n",
        "  print(prajwal + \" \" + pra)\n",
        "x(\"heshu\", \"hi\")\n"
      ],
      "metadata": {
        "colab": {
          "base_uri": "https://localhost:8080/"
        },
        "id": "IufNKi4hUfmm",
        "outputId": "8c2834d7-9ccd-4f8a-85b6-b284fa65f4a0"
      },
      "execution_count": 4,
      "outputs": [
        {
          "output_type": "stream",
          "name": "stdout",
          "text": [
            "heshu hi\n"
          ]
        }
      ]
    },
    {
      "cell_type": "markdown",
      "source": [
        "# Arbitrary Arguments, *args"
      ],
      "metadata": {
        "id": "OhhHYQtBWBqU"
      }
    },
    {
      "cell_type": "code",
      "source": [
        "def x(*friend):\n",
        "  print(\"my friend is \" + friend[2])\n",
        "\n",
        "x(\"praneeth\", \"prajwal\", \"heshu\")\n"
      ],
      "metadata": {
        "colab": {
          "base_uri": "https://localhost:8080/"
        },
        "id": "FNLpieQyWObE",
        "outputId": "7a4aef75-f670-4cd2-b90f-053ccac6e812"
      },
      "execution_count": 5,
      "outputs": [
        {
          "output_type": "stream",
          "name": "stdout",
          "text": [
            "my friend is heshu\n"
          ]
        }
      ]
    },
    {
      "cell_type": "code",
      "source": [
        "def voting(g,n,a):\n",
        "  \n",
        "  print(g+\"male\")\n",
        "  print(n+\"heshu\")\n",
        "  print(a+\"19\")"
      ],
      "metadata": {
        "id": "xAWHlolFXe1T"
      },
      "execution_count": 9,
      "outputs": []
    },
    {
      "cell_type": "markdown",
      "source": [
        "# Arbitrary Keyword Arguments, **kwargs"
      ],
      "metadata": {
        "id": "e6VVSgw5azIj"
      }
    },
    {
      "cell_type": "code",
      "source": [
        "def x(**friend):\n",
        "  print(\"my friend is \" + friend[\"lname\"])\n",
        "\n",
        "x(fname = \"heshu\", lname = \"prajwaL\")\n"
      ],
      "metadata": {
        "colab": {
          "base_uri": "https://localhost:8080/"
        },
        "id": "dZlzilANa0cF",
        "outputId": "12cfd792-3e4b-4844-938e-4d833d80eb53"
      },
      "execution_count": 7,
      "outputs": [
        {
          "output_type": "stream",
          "name": "stdout",
          "text": [
            "my friend is prajwaL\n"
          ]
        }
      ]
    },
    {
      "cell_type": "markdown",
      "source": [
        "# Default Parameter Value"
      ],
      "metadata": {
        "id": "T8OvZ8iRbH-s"
      }
    },
    {
      "cell_type": "code",
      "source": [
        "def friend(friend = \"heshu\"):\n",
        "  print(\"my friends are \" + friend)\n",
        "\n",
        "friend(\"heshu\")\n",
        "friend(\"sai krish\")\n",
        "friend(\"prajwal\")\n",
        "friend(\"praneeth\")\n"
      ],
      "metadata": {
        "colab": {
          "base_uri": "https://localhost:8080/"
        },
        "id": "xpDYNqUAbtcM",
        "outputId": "f0a1e9f5-70be-4805-d1cb-296a153a45fe"
      },
      "execution_count": 8,
      "outputs": [
        {
          "output_type": "stream",
          "name": "stdout",
          "text": [
            "my friends are heshu\n",
            "my friends are sai krish\n",
            "my friends are prajwal\n",
            "my friends are praneeth\n"
          ]
        }
      ]
    },
    {
      "cell_type": "markdown",
      "source": [
        ""
      ],
      "metadata": {
        "id": "W8BU1Q5Dhhfp"
      }
    }
  ]
}